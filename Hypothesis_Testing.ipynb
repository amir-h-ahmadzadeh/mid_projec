{
 "cells": [
  {
   "cell_type": "code",
   "execution_count": 2,
   "metadata": {},
   "outputs": [],
   "source": [
    "import numpy as np\n",
    "import pandas as pd\n",
    "import openpyxl\n",
    "from scipy.stats import chi2_contingency\n",
    "import plotly.express as px"
   ]
  },
  {
   "cell_type": "code",
   "execution_count": 3,
   "metadata": {},
   "outputs": [
    {
     "data": {
      "text/html": [
       "<div>\n",
       "<style scoped>\n",
       "    .dataframe tbody tr th:only-of-type {\n",
       "        vertical-align: middle;\n",
       "    }\n",
       "\n",
       "    .dataframe tbody tr th {\n",
       "        vertical-align: top;\n",
       "    }\n",
       "\n",
       "    .dataframe thead th {\n",
       "        text-align: right;\n",
       "    }\n",
       "</style>\n",
       "<table border=\"1\" class=\"dataframe\">\n",
       "  <thead>\n",
       "    <tr style=\"text-align: right;\">\n",
       "      <th></th>\n",
       "      <th>Column1</th>\n",
       "      <th>Age</th>\n",
       "      <th>sex</th>\n",
       "      <th>Nationality</th>\n",
       "      <th>base</th>\n",
       "      <th>Mother_tongue</th>\n",
       "      <th>Other_languages</th>\n",
       "      <th>education</th>\n",
       "      <th>Part_full</th>\n",
       "      <th>working_student</th>\n",
       "      <th>Academic_major</th>\n",
       "      <th>Bootcamp_subject</th>\n",
       "      <th>Institute</th>\n",
       "      <th>Graduation_time</th>\n",
       "      <th>local_language</th>\n",
       "      <th>Employee</th>\n",
       "      <th>Time_employee</th>\n",
       "      <th>Apply_employee</th>\n",
       "      <th>Work_exprience_employee</th>\n",
       "      <th>Time_hunter</th>\n",
       "      <th>Apply_hunter</th>\n",
       "      <th>Work_exprience_hunter</th>\n",
       "      <th>Subjective_technical</th>\n",
       "      <th>Subjective_soft</th>\n",
       "      <th>Subjective_language</th>\n",
       "      <th>Subjective_academia</th>\n",
       "      <th>Subjective_bootcamp</th>\n",
       "      <th>latitude</th>\n",
       "      <th>longitude</th>\n",
       "    </tr>\n",
       "  </thead>\n",
       "  <tbody>\n",
       "    <tr>\n",
       "      <th>0</th>\n",
       "      <td>0</td>\n",
       "      <td>Between 36 and 45</td>\n",
       "      <td>Male</td>\n",
       "      <td>British</td>\n",
       "      <td>Netherlands</td>\n",
       "      <td>English</td>\n",
       "      <td>Dutch</td>\n",
       "      <td>Bachelor's degree</td>\n",
       "      <td>Full time</td>\n",
       "      <td>No</td>\n",
       "      <td>Fine Art</td>\n",
       "      <td>UI/UX</td>\n",
       "      <td>Ironhack</td>\n",
       "      <td>2024-02-03 00:00:00</td>\n",
       "      <td>True</td>\n",
       "      <td>Not yet</td>\n",
       "      <td>NaN</td>\n",
       "      <td>NaN</td>\n",
       "      <td>NaN</td>\n",
       "      <td>Not started yet.</td>\n",
       "      <td>NaN</td>\n",
       "      <td>less than 1 year</td>\n",
       "      <td>4</td>\n",
       "      <td>4</td>\n",
       "      <td>2</td>\n",
       "      <td>3</td>\n",
       "      <td>2</td>\n",
       "      <td>52.243498</td>\n",
       "      <td>5.634323</td>\n",
       "    </tr>\n",
       "    <tr>\n",
       "      <th>1</th>\n",
       "      <td>1</td>\n",
       "      <td>Between 24 and 35</td>\n",
       "      <td>Male</td>\n",
       "      <td>German</td>\n",
       "      <td>Portugal</td>\n",
       "      <td>German</td>\n",
       "      <td>english, dutch</td>\n",
       "      <td>Bachelor's degree</td>\n",
       "      <td>Full time</td>\n",
       "      <td>Yes - Part time</td>\n",
       "      <td>Communication</td>\n",
       "      <td>WebDev</td>\n",
       "      <td>Ironhack</td>\n",
       "      <td>2023-12-05 00:00:00</td>\n",
       "      <td>False</td>\n",
       "      <td>Not yet</td>\n",
       "      <td>NaN</td>\n",
       "      <td>NaN</td>\n",
       "      <td>NaN</td>\n",
       "      <td>Not started yet.</td>\n",
       "      <td>Less than 50</td>\n",
       "      <td>between 1 year and 3 years</td>\n",
       "      <td>5</td>\n",
       "      <td>4</td>\n",
       "      <td>4</td>\n",
       "      <td>3</td>\n",
       "      <td>2</td>\n",
       "      <td>39.662165</td>\n",
       "      <td>-8.135352</td>\n",
       "    </tr>\n",
       "    <tr>\n",
       "      <th>2</th>\n",
       "      <td>2</td>\n",
       "      <td>Between 24 and 35</td>\n",
       "      <td>Female</td>\n",
       "      <td>Iranian</td>\n",
       "      <td>Germany</td>\n",
       "      <td>Persian</td>\n",
       "      <td>English</td>\n",
       "      <td>Bachelor's degree</td>\n",
       "      <td>Full time</td>\n",
       "      <td>No</td>\n",
       "      <td>Civil engineering</td>\n",
       "      <td>WebDev</td>\n",
       "      <td>Spiced</td>\n",
       "      <td>2023-08-09 00:00:00</td>\n",
       "      <td>False</td>\n",
       "      <td>Not yet</td>\n",
       "      <td>NaN</td>\n",
       "      <td>NaN</td>\n",
       "      <td>NaN</td>\n",
       "      <td>Less than 6 months</td>\n",
       "      <td>Less than 50</td>\n",
       "      <td>NaN</td>\n",
       "      <td>2</td>\n",
       "      <td>3</td>\n",
       "      <td>2</td>\n",
       "      <td>1</td>\n",
       "      <td>1</td>\n",
       "      <td>51.510000</td>\n",
       "      <td>9.910000</td>\n",
       "    </tr>\n",
       "    <tr>\n",
       "      <th>3</th>\n",
       "      <td>3</td>\n",
       "      <td>Between 24 and 35</td>\n",
       "      <td>Female</td>\n",
       "      <td>Swiss</td>\n",
       "      <td>Germany</td>\n",
       "      <td>German</td>\n",
       "      <td>English, Swiss-German</td>\n",
       "      <td>Some college or associate's degree</td>\n",
       "      <td>Full time</td>\n",
       "      <td>No</td>\n",
       "      <td>Early Childhood Education</td>\n",
       "      <td>UI/UX</td>\n",
       "      <td>Ironhack</td>\n",
       "      <td>2023-08-11 00:00:00</td>\n",
       "      <td>True</td>\n",
       "      <td>Not yet</td>\n",
       "      <td>NaN</td>\n",
       "      <td>NaN</td>\n",
       "      <td>NaN</td>\n",
       "      <td>NaN</td>\n",
       "      <td>NaN</td>\n",
       "      <td>NaN</td>\n",
       "      <td>4</td>\n",
       "      <td>3</td>\n",
       "      <td>2</td>\n",
       "      <td>1</td>\n",
       "      <td>4</td>\n",
       "      <td>51.510000</td>\n",
       "      <td>9.910000</td>\n",
       "    </tr>\n",
       "    <tr>\n",
       "      <th>4</th>\n",
       "      <td>4</td>\n",
       "      <td>Between 46 and 60</td>\n",
       "      <td>Male</td>\n",
       "      <td>German</td>\n",
       "      <td>Germany</td>\n",
       "      <td>German</td>\n",
       "      <td>English, Spanish</td>\n",
       "      <td>Bachelor's degree</td>\n",
       "      <td>Full time</td>\n",
       "      <td>No</td>\n",
       "      <td>Science of Art</td>\n",
       "      <td>WebDev</td>\n",
       "      <td>Spiced</td>\n",
       "      <td>2023-07-06 00:00:00</td>\n",
       "      <td>True</td>\n",
       "      <td>Not yet</td>\n",
       "      <td>NaN</td>\n",
       "      <td>NaN</td>\n",
       "      <td>NaN</td>\n",
       "      <td>Less than 6 months</td>\n",
       "      <td>Less than 50</td>\n",
       "      <td>less than 1 year</td>\n",
       "      <td>5</td>\n",
       "      <td>4</td>\n",
       "      <td>4</td>\n",
       "      <td>3</td>\n",
       "      <td>3</td>\n",
       "      <td>51.510000</td>\n",
       "      <td>9.910000</td>\n",
       "    </tr>\n",
       "    <tr>\n",
       "      <th>5</th>\n",
       "      <td>5</td>\n",
       "      <td>Between 36 and 45</td>\n",
       "      <td>Male</td>\n",
       "      <td>Ethiopian</td>\n",
       "      <td>Germany</td>\n",
       "      <td>Amharic</td>\n",
       "      <td>English</td>\n",
       "      <td>Bachelor's degree</td>\n",
       "      <td>Full time</td>\n",
       "      <td>No</td>\n",
       "      <td>Computer science</td>\n",
       "      <td>WebDev</td>\n",
       "      <td>Spiced</td>\n",
       "      <td>2023-07-06 00:00:00</td>\n",
       "      <td>False</td>\n",
       "      <td>Not yet</td>\n",
       "      <td>NaN</td>\n",
       "      <td>NaN</td>\n",
       "      <td>NaN</td>\n",
       "      <td>Less than 6 months</td>\n",
       "      <td>Between 50 and 100</td>\n",
       "      <td>more than 3 years</td>\n",
       "      <td>4</td>\n",
       "      <td>2</td>\n",
       "      <td>3</td>\n",
       "      <td>3</td>\n",
       "      <td>2</td>\n",
       "      <td>51.510000</td>\n",
       "      <td>9.910000</td>\n",
       "    </tr>\n",
       "    <tr>\n",
       "      <th>6</th>\n",
       "      <td>6</td>\n",
       "      <td>Between 24 and 35</td>\n",
       "      <td>Female</td>\n",
       "      <td>Iranian</td>\n",
       "      <td>Germany</td>\n",
       "      <td>Persian</td>\n",
       "      <td>English</td>\n",
       "      <td>Bachelor's degree</td>\n",
       "      <td>Full time</td>\n",
       "      <td>No</td>\n",
       "      <td>Conservation and restoration of cultural heritage</td>\n",
       "      <td>WebDev</td>\n",
       "      <td>Ironhack</td>\n",
       "      <td>2022-06-03 00:00:00</td>\n",
       "      <td>False</td>\n",
       "      <td>Yes</td>\n",
       "      <td>1 week</td>\n",
       "      <td>Less than 50</td>\n",
       "      <td>NaN</td>\n",
       "      <td>NaN</td>\n",
       "      <td>NaN</td>\n",
       "      <td>NaN</td>\n",
       "      <td>3</td>\n",
       "      <td>5</td>\n",
       "      <td>3</td>\n",
       "      <td>3</td>\n",
       "      <td>4</td>\n",
       "      <td>51.510000</td>\n",
       "      <td>9.910000</td>\n",
       "    </tr>\n",
       "    <tr>\n",
       "      <th>7</th>\n",
       "      <td>7</td>\n",
       "      <td>Between 24 and 35</td>\n",
       "      <td>Female</td>\n",
       "      <td>Iranian</td>\n",
       "      <td>Germany</td>\n",
       "      <td>Azerbaijani</td>\n",
       "      <td>Persian. English. Turkish</td>\n",
       "      <td>Master's degree</td>\n",
       "      <td>Full time</td>\n",
       "      <td>Yes - Part time</td>\n",
       "      <td>MBA in project management</td>\n",
       "      <td>UI/UX</td>\n",
       "      <td>Ironhack</td>\n",
       "      <td>2021-12-10 00:00:00</td>\n",
       "      <td>False</td>\n",
       "      <td>Yes</td>\n",
       "      <td>less than 6 months</td>\n",
       "      <td>Less than 50</td>\n",
       "      <td>between 1year and 3 years</td>\n",
       "      <td>NaN</td>\n",
       "      <td>NaN</td>\n",
       "      <td>NaN</td>\n",
       "      <td>4</td>\n",
       "      <td>4</td>\n",
       "      <td>2</td>\n",
       "      <td>1</td>\n",
       "      <td>3</td>\n",
       "      <td>51.510000</td>\n",
       "      <td>9.910000</td>\n",
       "    </tr>\n",
       "    <tr>\n",
       "      <th>8</th>\n",
       "      <td>8</td>\n",
       "      <td>Between 24 and 35</td>\n",
       "      <td>Female</td>\n",
       "      <td>Romanian</td>\n",
       "      <td>Germany</td>\n",
       "      <td>Romanian</td>\n",
       "      <td>English, Spanish</td>\n",
       "      <td>Master's degree</td>\n",
       "      <td>Part time</td>\n",
       "      <td>Yes - Part time</td>\n",
       "      <td>Natural Sciences</td>\n",
       "      <td>Data Analysis</td>\n",
       "      <td>Ironhack</td>\n",
       "      <td>2022-07-31 00:00:00</td>\n",
       "      <td>False</td>\n",
       "      <td>Yes</td>\n",
       "      <td>less than 6 months</td>\n",
       "      <td>Less than 50</td>\n",
       "      <td>between 1year and 3 years</td>\n",
       "      <td>NaN</td>\n",
       "      <td>NaN</td>\n",
       "      <td>NaN</td>\n",
       "      <td>5</td>\n",
       "      <td>3</td>\n",
       "      <td>2</td>\n",
       "      <td>4</td>\n",
       "      <td>1</td>\n",
       "      <td>51.510000</td>\n",
       "      <td>9.910000</td>\n",
       "    </tr>\n",
       "    <tr>\n",
       "      <th>9</th>\n",
       "      <td>9</td>\n",
       "      <td>Between 24 and 35</td>\n",
       "      <td>Female</td>\n",
       "      <td>American</td>\n",
       "      <td>The United States</td>\n",
       "      <td>English</td>\n",
       "      <td>none</td>\n",
       "      <td>Bachelor's degree</td>\n",
       "      <td>Full time</td>\n",
       "      <td>No</td>\n",
       "      <td>Sociology and Anthropology</td>\n",
       "      <td>UI/UX</td>\n",
       "      <td>Ironhack</td>\n",
       "      <td>2023-12-08 00:00:00</td>\n",
       "      <td>True</td>\n",
       "      <td>Not yet</td>\n",
       "      <td>NaN</td>\n",
       "      <td>NaN</td>\n",
       "      <td>NaN</td>\n",
       "      <td>Not started yet.</td>\n",
       "      <td>Less than 50</td>\n",
       "      <td>NaN</td>\n",
       "      <td>4</td>\n",
       "      <td>4</td>\n",
       "      <td>2</td>\n",
       "      <td>2</td>\n",
       "      <td>2</td>\n",
       "      <td>47.828163</td>\n",
       "      <td>-122.598365</td>\n",
       "    </tr>\n",
       "    <tr>\n",
       "      <th>10</th>\n",
       "      <td>10</td>\n",
       "      <td>Between 24 and 35</td>\n",
       "      <td>Female</td>\n",
       "      <td>brazilian</td>\n",
       "      <td>Brazil</td>\n",
       "      <td>portuguese</td>\n",
       "      <td>english</td>\n",
       "      <td>Bachelor's degree</td>\n",
       "      <td>Full time</td>\n",
       "      <td>No</td>\n",
       "      <td>architecture and urbanism</td>\n",
       "      <td>Data Analysis</td>\n",
       "      <td>Ironhack</td>\n",
       "      <td>2022-05-21 00:00:00</td>\n",
       "      <td>True</td>\n",
       "      <td>Yes</td>\n",
       "      <td>less than 6 months</td>\n",
       "      <td>Less than 50</td>\n",
       "      <td>NaN</td>\n",
       "      <td>NaN</td>\n",
       "      <td>NaN</td>\n",
       "      <td>NaN</td>\n",
       "      <td>4</td>\n",
       "      <td>5</td>\n",
       "      <td>5</td>\n",
       "      <td>2</td>\n",
       "      <td>5</td>\n",
       "      <td>-10.333333</td>\n",
       "      <td>-53.200000</td>\n",
       "    </tr>\n",
       "    <tr>\n",
       "      <th>11</th>\n",
       "      <td>11</td>\n",
       "      <td>Between 24 and 35</td>\n",
       "      <td>Female</td>\n",
       "      <td>Latin/Cuban</td>\n",
       "      <td>The United States</td>\n",
       "      <td>Spanish</td>\n",
       "      <td>English</td>\n",
       "      <td>Bachelor's degree</td>\n",
       "      <td>Part time</td>\n",
       "      <td>Yes - Full time</td>\n",
       "      <td>Bachelor's in Fine Arts</td>\n",
       "      <td>WebDev</td>\n",
       "      <td>Ironhack</td>\n",
       "      <td>2020-05-09 00:00:00</td>\n",
       "      <td>True</td>\n",
       "      <td>Yes</td>\n",
       "      <td>more than a year</td>\n",
       "      <td>More than 100</td>\n",
       "      <td>between 1year and 3 years</td>\n",
       "      <td>NaN</td>\n",
       "      <td>NaN</td>\n",
       "      <td>NaN</td>\n",
       "      <td>5</td>\n",
       "      <td>3</td>\n",
       "      <td>4</td>\n",
       "      <td>5</td>\n",
       "      <td>2</td>\n",
       "      <td>47.828163</td>\n",
       "      <td>-122.598365</td>\n",
       "    </tr>\n",
       "    <tr>\n",
       "      <th>12</th>\n",
       "      <td>12</td>\n",
       "      <td>Between 24 and 35</td>\n",
       "      <td>Male</td>\n",
       "      <td>Portuguese</td>\n",
       "      <td>Spain</td>\n",
       "      <td>Portuguese</td>\n",
       "      <td>Spanish and English</td>\n",
       "      <td>Bachelor's degree</td>\n",
       "      <td>Full time</td>\n",
       "      <td>Yes - Full time</td>\n",
       "      <td>Business Administration</td>\n",
       "      <td>Data Analysis</td>\n",
       "      <td>Ironhack</td>\n",
       "      <td>2020-06-30 00:00:00</td>\n",
       "      <td>False</td>\n",
       "      <td>Not yet</td>\n",
       "      <td>NaN</td>\n",
       "      <td>NaN</td>\n",
       "      <td>NaN</td>\n",
       "      <td>NaN</td>\n",
       "      <td>NaN</td>\n",
       "      <td>NaN</td>\n",
       "      <td>4</td>\n",
       "      <td>4</td>\n",
       "      <td>3</td>\n",
       "      <td>2</td>\n",
       "      <td>2</td>\n",
       "      <td>39.326068</td>\n",
       "      <td>-4.837979</td>\n",
       "    </tr>\n",
       "    <tr>\n",
       "      <th>13</th>\n",
       "      <td>13</td>\n",
       "      <td>Between 24 and 35</td>\n",
       "      <td>Female</td>\n",
       "      <td>Pakistani</td>\n",
       "      <td>Germany</td>\n",
       "      <td>Urdu</td>\n",
       "      <td>English</td>\n",
       "      <td>Bachelor's degree</td>\n",
       "      <td>Full time</td>\n",
       "      <td>No</td>\n",
       "      <td>Computers</td>\n",
       "      <td>Data Analysis</td>\n",
       "      <td>Ironhack</td>\n",
       "      <td>2014-09-10 00:00:00</td>\n",
       "      <td>True</td>\n",
       "      <td>Not yet</td>\n",
       "      <td>NaN</td>\n",
       "      <td>NaN</td>\n",
       "      <td>NaN</td>\n",
       "      <td>Not started yet.</td>\n",
       "      <td>Less than 50</td>\n",
       "      <td>less than 1 year</td>\n",
       "      <td>4</td>\n",
       "      <td>4</td>\n",
       "      <td>2</td>\n",
       "      <td>4</td>\n",
       "      <td>4</td>\n",
       "      <td>51.510000</td>\n",
       "      <td>9.910000</td>\n",
       "    </tr>\n",
       "    <tr>\n",
       "      <th>14</th>\n",
       "      <td>14</td>\n",
       "      <td>Between 36 and 45</td>\n",
       "      <td>Female</td>\n",
       "      <td>Indian</td>\n",
       "      <td>Netherlands</td>\n",
       "      <td>Hindi</td>\n",
       "      <td>English</td>\n",
       "      <td>Master's degree</td>\n",
       "      <td>Full time</td>\n",
       "      <td>No</td>\n",
       "      <td>Chemistry</td>\n",
       "      <td>Data Analysis</td>\n",
       "      <td>Ironhack</td>\n",
       "      <td>2001-04-21 00:00:00</td>\n",
       "      <td>True</td>\n",
       "      <td>Not yet</td>\n",
       "      <td>NaN</td>\n",
       "      <td>NaN</td>\n",
       "      <td>NaN</td>\n",
       "      <td>Between 6 and 12 months</td>\n",
       "      <td>Less than 50</td>\n",
       "      <td>NaN</td>\n",
       "      <td>5</td>\n",
       "      <td>4</td>\n",
       "      <td>3</td>\n",
       "      <td>4</td>\n",
       "      <td>3</td>\n",
       "      <td>52.243498</td>\n",
       "      <td>5.634323</td>\n",
       "    </tr>\n",
       "    <tr>\n",
       "      <th>15</th>\n",
       "      <td>15</td>\n",
       "      <td>Between 24 and 35</td>\n",
       "      <td>Male</td>\n",
       "      <td>Spain</td>\n",
       "      <td>Spain</td>\n",
       "      <td>Spanish</td>\n",
       "      <td>Catalan, English, Russian</td>\n",
       "      <td>Master's degree</td>\n",
       "      <td>Part time</td>\n",
       "      <td>Yes - Part time</td>\n",
       "      <td>Cytology</td>\n",
       "      <td>Data Analysis</td>\n",
       "      <td>Ironhack</td>\n",
       "      <td>0023-08-31</td>\n",
       "      <td>True</td>\n",
       "      <td>Yes</td>\n",
       "      <td>less than 6 months</td>\n",
       "      <td>More than 100</td>\n",
       "      <td>more than 3 years</td>\n",
       "      <td>NaN</td>\n",
       "      <td>NaN</td>\n",
       "      <td>NaN</td>\n",
       "      <td>3</td>\n",
       "      <td>4</td>\n",
       "      <td>5</td>\n",
       "      <td>5</td>\n",
       "      <td>4</td>\n",
       "      <td>39.326068</td>\n",
       "      <td>-4.837979</td>\n",
       "    </tr>\n",
       "    <tr>\n",
       "      <th>16</th>\n",
       "      <td>16</td>\n",
       "      <td>Between 46 and 60</td>\n",
       "      <td>Male</td>\n",
       "      <td>French</td>\n",
       "      <td>Netherlands</td>\n",
       "      <td>English</td>\n",
       "      <td>French and some Dutch</td>\n",
       "      <td>Some college or associate's degree</td>\n",
       "      <td>Full time</td>\n",
       "      <td>No</td>\n",
       "      <td>Software Testing</td>\n",
       "      <td>Data Analysis</td>\n",
       "      <td>Ironhack</td>\n",
       "      <td>2023-11-06 00:00:00</td>\n",
       "      <td>False</td>\n",
       "      <td>Not yet</td>\n",
       "      <td>NaN</td>\n",
       "      <td>NaN</td>\n",
       "      <td>NaN</td>\n",
       "      <td>Just starting now</td>\n",
       "      <td>Less than 50</td>\n",
       "      <td>more than 3 years</td>\n",
       "      <td>5</td>\n",
       "      <td>4</td>\n",
       "      <td>1</td>\n",
       "      <td>3</td>\n",
       "      <td>2</td>\n",
       "      <td>52.243498</td>\n",
       "      <td>5.634323</td>\n",
       "    </tr>\n",
       "    <tr>\n",
       "      <th>17</th>\n",
       "      <td>17</td>\n",
       "      <td>Between 24 and 35</td>\n",
       "      <td>Female</td>\n",
       "      <td>Turkish</td>\n",
       "      <td>Germany</td>\n",
       "      <td>Turkish</td>\n",
       "      <td>German English Russian</td>\n",
       "      <td>Master's degree</td>\n",
       "      <td>Full time</td>\n",
       "      <td>No</td>\n",
       "      <td>Politics</td>\n",
       "      <td>WebDev</td>\n",
       "      <td>Spiced</td>\n",
       "      <td>2023-09-01 00:00:00</td>\n",
       "      <td>True</td>\n",
       "      <td>Not yet</td>\n",
       "      <td>NaN</td>\n",
       "      <td>NaN</td>\n",
       "      <td>NaN</td>\n",
       "      <td>NaN</td>\n",
       "      <td>NaN</td>\n",
       "      <td>NaN</td>\n",
       "      <td>1</td>\n",
       "      <td>1</td>\n",
       "      <td>1</td>\n",
       "      <td>2</td>\n",
       "      <td>1</td>\n",
       "      <td>51.510000</td>\n",
       "      <td>9.910000</td>\n",
       "    </tr>\n",
       "    <tr>\n",
       "      <th>18</th>\n",
       "      <td>18</td>\n",
       "      <td>Between 24 and 35</td>\n",
       "      <td>Male</td>\n",
       "      <td>Indian</td>\n",
       "      <td>Germany</td>\n",
       "      <td>Malayalam</td>\n",
       "      <td>English</td>\n",
       "      <td>Master's degree</td>\n",
       "      <td>Full time</td>\n",
       "      <td>No</td>\n",
       "      <td>MBA : Big Data Management</td>\n",
       "      <td>Data Analysis</td>\n",
       "      <td>Spiced</td>\n",
       "      <td>2023-06-02 00:00:00</td>\n",
       "      <td>False</td>\n",
       "      <td>Not yet</td>\n",
       "      <td>NaN</td>\n",
       "      <td>NaN</td>\n",
       "      <td>NaN</td>\n",
       "      <td>Less than 6 months</td>\n",
       "      <td>Between 50 and 100</td>\n",
       "      <td>between 1 year and 3 years</td>\n",
       "      <td>5</td>\n",
       "      <td>4</td>\n",
       "      <td>3</td>\n",
       "      <td>2</td>\n",
       "      <td>2</td>\n",
       "      <td>51.510000</td>\n",
       "      <td>9.910000</td>\n",
       "    </tr>\n",
       "    <tr>\n",
       "      <th>19</th>\n",
       "      <td>19</td>\n",
       "      <td>Between 24 and 35</td>\n",
       "      <td>Male</td>\n",
       "      <td>Serbian</td>\n",
       "      <td>Germany</td>\n",
       "      <td>Serbian</td>\n",
       "      <td>English, Spanish and a bit of German</td>\n",
       "      <td>Some college or associate's degree</td>\n",
       "      <td>Full time</td>\n",
       "      <td>No</td>\n",
       "      <td>Web development</td>\n",
       "      <td>WebDev</td>\n",
       "      <td>Spiced</td>\n",
       "      <td>2023-08-09 00:00:00</td>\n",
       "      <td>False</td>\n",
       "      <td>Not yet</td>\n",
       "      <td>NaN</td>\n",
       "      <td>NaN</td>\n",
       "      <td>NaN</td>\n",
       "      <td>Less than 6 months</td>\n",
       "      <td>More than 100</td>\n",
       "      <td>less than 1 year</td>\n",
       "      <td>5</td>\n",
       "      <td>5</td>\n",
       "      <td>1</td>\n",
       "      <td>1</td>\n",
       "      <td>2</td>\n",
       "      <td>51.510000</td>\n",
       "      <td>9.910000</td>\n",
       "    </tr>\n",
       "    <tr>\n",
       "      <th>20</th>\n",
       "      <td>20</td>\n",
       "      <td>Between 24 and 35</td>\n",
       "      <td>Female</td>\n",
       "      <td>Indian</td>\n",
       "      <td>Germany</td>\n",
       "      <td>Telugu</td>\n",
       "      <td>English,German</td>\n",
       "      <td>Bachelor's degree</td>\n",
       "      <td>Full time</td>\n",
       "      <td>No</td>\n",
       "      <td>Electronics</td>\n",
       "      <td>WebDev</td>\n",
       "      <td>Spiced</td>\n",
       "      <td>2023-08-09 00:00:00</td>\n",
       "      <td>True</td>\n",
       "      <td>Not yet</td>\n",
       "      <td>NaN</td>\n",
       "      <td>NaN</td>\n",
       "      <td>NaN</td>\n",
       "      <td>Less than 6 months</td>\n",
       "      <td>More than 100</td>\n",
       "      <td>between 1 year and 3 years</td>\n",
       "      <td>4</td>\n",
       "      <td>5</td>\n",
       "      <td>5</td>\n",
       "      <td>4</td>\n",
       "      <td>3</td>\n",
       "      <td>51.510000</td>\n",
       "      <td>9.910000</td>\n",
       "    </tr>\n",
       "    <tr>\n",
       "      <th>21</th>\n",
       "      <td>21</td>\n",
       "      <td>Between 24 and 35</td>\n",
       "      <td>Male</td>\n",
       "      <td>Brazilian</td>\n",
       "      <td>Germany</td>\n",
       "      <td>Portuguese</td>\n",
       "      <td>English and German</td>\n",
       "      <td>Bachelor's degree</td>\n",
       "      <td>Full time</td>\n",
       "      <td>No</td>\n",
       "      <td>Journalism</td>\n",
       "      <td>WebDev</td>\n",
       "      <td>Spiced</td>\n",
       "      <td>2023-08-08 00:00:00</td>\n",
       "      <td>True</td>\n",
       "      <td>Not yet</td>\n",
       "      <td>NaN</td>\n",
       "      <td>NaN</td>\n",
       "      <td>NaN</td>\n",
       "      <td>Less than 6 months</td>\n",
       "      <td>332</td>\n",
       "      <td>less than 1 year</td>\n",
       "      <td>4</td>\n",
       "      <td>4</td>\n",
       "      <td>4</td>\n",
       "      <td>4</td>\n",
       "      <td>1</td>\n",
       "      <td>51.510000</td>\n",
       "      <td>9.910000</td>\n",
       "    </tr>\n",
       "    <tr>\n",
       "      <th>22</th>\n",
       "      <td>22</td>\n",
       "      <td>Between 24 and 35</td>\n",
       "      <td>Male</td>\n",
       "      <td>Iranian</td>\n",
       "      <td>Germany</td>\n",
       "      <td>Persian</td>\n",
       "      <td>working - only English</td>\n",
       "      <td>Doctorate or professional degree</td>\n",
       "      <td>Full time</td>\n",
       "      <td>No</td>\n",
       "      <td>Linguistics and Cognitive Science</td>\n",
       "      <td>Data Analysis</td>\n",
       "      <td>Spiced</td>\n",
       "      <td>2023-08-22 00:00:00</td>\n",
       "      <td>False</td>\n",
       "      <td>Not yet</td>\n",
       "      <td>NaN</td>\n",
       "      <td>NaN</td>\n",
       "      <td>NaN</td>\n",
       "      <td>Less than 6 months</td>\n",
       "      <td>More than 100</td>\n",
       "      <td>I thought i need to address this more speciifi...</td>\n",
       "      <td>4</td>\n",
       "      <td>2</td>\n",
       "      <td>3</td>\n",
       "      <td>1</td>\n",
       "      <td>1</td>\n",
       "      <td>51.510000</td>\n",
       "      <td>9.910000</td>\n",
       "    </tr>\n",
       "    <tr>\n",
       "      <th>23</th>\n",
       "      <td>23</td>\n",
       "      <td>Between 36 and 45</td>\n",
       "      <td>Male</td>\n",
       "      <td>Spanish</td>\n",
       "      <td>Germany</td>\n",
       "      <td>Spanisj</td>\n",
       "      <td>2: english and german</td>\n",
       "      <td>Some college or associate's degree</td>\n",
       "      <td>Part time</td>\n",
       "      <td>No</td>\n",
       "      <td>Automotive tecnician</td>\n",
       "      <td>Data Analysis</td>\n",
       "      <td>Ironhack</td>\n",
       "      <td>2022-08-22 00:00:00</td>\n",
       "      <td>True</td>\n",
       "      <td>Yes</td>\n",
       "      <td>less than 6 months</td>\n",
       "      <td>Less than 50</td>\n",
       "      <td>NaN</td>\n",
       "      <td>NaN</td>\n",
       "      <td>NaN</td>\n",
       "      <td>NaN</td>\n",
       "      <td>4</td>\n",
       "      <td>4</td>\n",
       "      <td>5</td>\n",
       "      <td>3</td>\n",
       "      <td>3</td>\n",
       "      <td>51.510000</td>\n",
       "      <td>9.910000</td>\n",
       "    </tr>\n",
       "    <tr>\n",
       "      <th>24</th>\n",
       "      <td>24</td>\n",
       "      <td>Between 36 and 45</td>\n",
       "      <td>Female</td>\n",
       "      <td>Dutch</td>\n",
       "      <td>Netherlands</td>\n",
       "      <td>Dutch</td>\n",
       "      <td>English</td>\n",
       "      <td>Bachelor's degree</td>\n",
       "      <td>Full time</td>\n",
       "      <td>No</td>\n",
       "      <td>Bachelor of Design</td>\n",
       "      <td>Data Analysis</td>\n",
       "      <td>Ironhack</td>\n",
       "      <td>2023-11-06 00:00:00</td>\n",
       "      <td>True</td>\n",
       "      <td>Not yet</td>\n",
       "      <td>NaN</td>\n",
       "      <td>NaN</td>\n",
       "      <td>NaN</td>\n",
       "      <td>Less than 6 months</td>\n",
       "      <td>3</td>\n",
       "      <td>NaN</td>\n",
       "      <td>5</td>\n",
       "      <td>5</td>\n",
       "      <td>4</td>\n",
       "      <td>4</td>\n",
       "      <td>4</td>\n",
       "      <td>52.243498</td>\n",
       "      <td>5.634323</td>\n",
       "    </tr>\n",
       "    <tr>\n",
       "      <th>25</th>\n",
       "      <td>25</td>\n",
       "      <td>Between 24 and 35</td>\n",
       "      <td>Female</td>\n",
       "      <td>Iranian</td>\n",
       "      <td>Germany</td>\n",
       "      <td>Persian</td>\n",
       "      <td>English, German</td>\n",
       "      <td>Bachelor's degree</td>\n",
       "      <td>Full time</td>\n",
       "      <td>No</td>\n",
       "      <td>Civil engineering</td>\n",
       "      <td>Cyber security</td>\n",
       "      <td>Ironhack</td>\n",
       "      <td>2022-09-01 00:00:00</td>\n",
       "      <td>True</td>\n",
       "      <td>Yes</td>\n",
       "      <td>between 3 and 12 months</td>\n",
       "      <td>Between 50 and 100</td>\n",
       "      <td>less than 1 year</td>\n",
       "      <td>NaN</td>\n",
       "      <td>NaN</td>\n",
       "      <td>NaN</td>\n",
       "      <td>4</td>\n",
       "      <td>4</td>\n",
       "      <td>3</td>\n",
       "      <td>4</td>\n",
       "      <td>2</td>\n",
       "      <td>51.510000</td>\n",
       "      <td>9.910000</td>\n",
       "    </tr>\n",
       "    <tr>\n",
       "      <th>26</th>\n",
       "      <td>26</td>\n",
       "      <td>Between 24 and 35</td>\n",
       "      <td>Female</td>\n",
       "      <td>Iranian</td>\n",
       "      <td>Germany</td>\n",
       "      <td>persian</td>\n",
       "      <td>english</td>\n",
       "      <td>Bachelor's degree</td>\n",
       "      <td>Part time</td>\n",
       "      <td>Yes - Part time</td>\n",
       "      <td>Civil engineering</td>\n",
       "      <td>Data Analysis</td>\n",
       "      <td>Ironhack</td>\n",
       "      <td>2022-06-20 00:00:00</td>\n",
       "      <td>False</td>\n",
       "      <td>Yes</td>\n",
       "      <td>between 3 and 12 months</td>\n",
       "      <td>Between 50 and 100</td>\n",
       "      <td>less than 1 year</td>\n",
       "      <td>NaN</td>\n",
       "      <td>NaN</td>\n",
       "      <td>NaN</td>\n",
       "      <td>4</td>\n",
       "      <td>4</td>\n",
       "      <td>3</td>\n",
       "      <td>4</td>\n",
       "      <td>2</td>\n",
       "      <td>51.510000</td>\n",
       "      <td>9.910000</td>\n",
       "    </tr>\n",
       "    <tr>\n",
       "      <th>27</th>\n",
       "      <td>27</td>\n",
       "      <td>Between 24 and 35</td>\n",
       "      <td>Male</td>\n",
       "      <td>Iranian</td>\n",
       "      <td>Germany</td>\n",
       "      <td>Persian</td>\n",
       "      <td>English</td>\n",
       "      <td>Bachelor's degree</td>\n",
       "      <td>Part time</td>\n",
       "      <td>Yes - Part time</td>\n",
       "      <td>civil engineering</td>\n",
       "      <td>UI/UX</td>\n",
       "      <td>Ironhack</td>\n",
       "      <td>2022-04-11 00:00:00</td>\n",
       "      <td>False</td>\n",
       "      <td>Yes</td>\n",
       "      <td>between 3 and 12 months</td>\n",
       "      <td>Between 50 and 100</td>\n",
       "      <td>less than 1 year</td>\n",
       "      <td>NaN</td>\n",
       "      <td>NaN</td>\n",
       "      <td>NaN</td>\n",
       "      <td>4</td>\n",
       "      <td>4</td>\n",
       "      <td>3</td>\n",
       "      <td>4</td>\n",
       "      <td>2</td>\n",
       "      <td>51.510000</td>\n",
       "      <td>9.910000</td>\n",
       "    </tr>\n",
       "    <tr>\n",
       "      <th>28</th>\n",
       "      <td>28</td>\n",
       "      <td>Between 24 and 35</td>\n",
       "      <td>Male</td>\n",
       "      <td>Iranian</td>\n",
       "      <td>Germany</td>\n",
       "      <td>Persian</td>\n",
       "      <td>English</td>\n",
       "      <td>Bachelor's degree</td>\n",
       "      <td>Part time</td>\n",
       "      <td>Yes - Full time</td>\n",
       "      <td>Computer science</td>\n",
       "      <td>Data Analysis</td>\n",
       "      <td>Ironhack</td>\n",
       "      <td>2023-07-04 00:00:00</td>\n",
       "      <td>False</td>\n",
       "      <td>Yes</td>\n",
       "      <td>between 3 and 12 months</td>\n",
       "      <td>More than 100</td>\n",
       "      <td>less than 1 year</td>\n",
       "      <td>NaN</td>\n",
       "      <td>NaN</td>\n",
       "      <td>NaN</td>\n",
       "      <td>4</td>\n",
       "      <td>3</td>\n",
       "      <td>2</td>\n",
       "      <td>3</td>\n",
       "      <td>3</td>\n",
       "      <td>51.510000</td>\n",
       "      <td>9.910000</td>\n",
       "    </tr>\n",
       "    <tr>\n",
       "      <th>29</th>\n",
       "      <td>29</td>\n",
       "      <td>Between 24 and 35</td>\n",
       "      <td>Male</td>\n",
       "      <td>German</td>\n",
       "      <td>Germany</td>\n",
       "      <td>German</td>\n",
       "      <td>English</td>\n",
       "      <td>Master's degree</td>\n",
       "      <td>Full time</td>\n",
       "      <td>No</td>\n",
       "      <td>Art</td>\n",
       "      <td>WebDev</td>\n",
       "      <td>Spiced</td>\n",
       "      <td>2022-02-08 00:00:00</td>\n",
       "      <td>False</td>\n",
       "      <td>Yes</td>\n",
       "      <td>more than a year</td>\n",
       "      <td>More than 100</td>\n",
       "      <td>NaN</td>\n",
       "      <td>NaN</td>\n",
       "      <td>NaN</td>\n",
       "      <td>NaN</td>\n",
       "      <td>4</td>\n",
       "      <td>3</td>\n",
       "      <td>3</td>\n",
       "      <td>3</td>\n",
       "      <td>2</td>\n",
       "      <td>51.510000</td>\n",
       "      <td>9.910000</td>\n",
       "    </tr>\n",
       "    <tr>\n",
       "      <th>30</th>\n",
       "      <td>30</td>\n",
       "      <td>Between 24 and 35</td>\n",
       "      <td>Male</td>\n",
       "      <td>Portuguese</td>\n",
       "      <td>Spain</td>\n",
       "      <td>Portuguese</td>\n",
       "      <td>English, Spanish, Italian</td>\n",
       "      <td>High school diploma or equivalent</td>\n",
       "      <td>Full time</td>\n",
       "      <td>No</td>\n",
       "      <td>I started studying Civil Engineering but did n...</td>\n",
       "      <td>WebDev</td>\n",
       "      <td>Ironhack</td>\n",
       "      <td>2023-06-09 00:00:00</td>\n",
       "      <td>True</td>\n",
       "      <td>Yes</td>\n",
       "      <td>less than 6 months</td>\n",
       "      <td>Less than 50</td>\n",
       "      <td>NaN</td>\n",
       "      <td>NaN</td>\n",
       "      <td>NaN</td>\n",
       "      <td>NaN</td>\n",
       "      <td>5</td>\n",
       "      <td>4</td>\n",
       "      <td>4</td>\n",
       "      <td>3</td>\n",
       "      <td>4</td>\n",
       "      <td>39.326068</td>\n",
       "      <td>-4.837979</td>\n",
       "    </tr>\n",
       "    <tr>\n",
       "      <th>31</th>\n",
       "      <td>31</td>\n",
       "      <td>Between 36 and 45</td>\n",
       "      <td>Female</td>\n",
       "      <td>Brazilian</td>\n",
       "      <td>Brazil</td>\n",
       "      <td>Portuguese</td>\n",
       "      <td>English</td>\n",
       "      <td>Master's degree</td>\n",
       "      <td>Full time</td>\n",
       "      <td>No</td>\n",
       "      <td>CS</td>\n",
       "      <td>WebDev</td>\n",
       "      <td>Ironhack</td>\n",
       "      <td>2023-07-05 00:00:00</td>\n",
       "      <td>True</td>\n",
       "      <td>Yes</td>\n",
       "      <td>between 3 and 12 months</td>\n",
       "      <td>More than 100</td>\n",
       "      <td>between 1year and 3 years</td>\n",
       "      <td>NaN</td>\n",
       "      <td>NaN</td>\n",
       "      <td>NaN</td>\n",
       "      <td>3</td>\n",
       "      <td>3</td>\n",
       "      <td>4</td>\n",
       "      <td>4</td>\n",
       "      <td>3</td>\n",
       "      <td>-10.333333</td>\n",
       "      <td>-53.200000</td>\n",
       "    </tr>\n",
       "    <tr>\n",
       "      <th>32</th>\n",
       "      <td>32</td>\n",
       "      <td>Between 24 and 35</td>\n",
       "      <td>Male</td>\n",
       "      <td>Irainia</td>\n",
       "      <td>Germany</td>\n",
       "      <td>German</td>\n",
       "      <td>English</td>\n",
       "      <td>Bachelor's degree</td>\n",
       "      <td>Part time</td>\n",
       "      <td>Yes - Full time</td>\n",
       "      <td>CS</td>\n",
       "      <td>UI/UX</td>\n",
       "      <td>Ironhack</td>\n",
       "      <td>2023-06-19 00:00:00</td>\n",
       "      <td>True</td>\n",
       "      <td>Yes</td>\n",
       "      <td>between 3 and 12 months</td>\n",
       "      <td>Between 50 and 100</td>\n",
       "      <td>between 1year and 3 years</td>\n",
       "      <td>NaN</td>\n",
       "      <td>NaN</td>\n",
       "      <td>NaN</td>\n",
       "      <td>5</td>\n",
       "      <td>4</td>\n",
       "      <td>4</td>\n",
       "      <td>4</td>\n",
       "      <td>5</td>\n",
       "      <td>51.510000</td>\n",
       "      <td>9.910000</td>\n",
       "    </tr>\n",
       "    <tr>\n",
       "      <th>33</th>\n",
       "      <td>33</td>\n",
       "      <td>Between 36 and 45</td>\n",
       "      <td>Male</td>\n",
       "      <td>German</td>\n",
       "      <td>Germany</td>\n",
       "      <td>German</td>\n",
       "      <td>Spanish</td>\n",
       "      <td>Bachelor's degree</td>\n",
       "      <td>Full time</td>\n",
       "      <td>No</td>\n",
       "      <td>Law</td>\n",
       "      <td>Data Analysis</td>\n",
       "      <td>Ironhack</td>\n",
       "      <td>2023-06-15 00:00:00</td>\n",
       "      <td>True</td>\n",
       "      <td>Yes</td>\n",
       "      <td>between 3 and 12 months</td>\n",
       "      <td>Between 50 and 100</td>\n",
       "      <td>between 1year and 3 years</td>\n",
       "      <td>NaN</td>\n",
       "      <td>NaN</td>\n",
       "      <td>NaN</td>\n",
       "      <td>4</td>\n",
       "      <td>3</td>\n",
       "      <td>3</td>\n",
       "      <td>4</td>\n",
       "      <td>4</td>\n",
       "      <td>51.510000</td>\n",
       "      <td>9.910000</td>\n",
       "    </tr>\n",
       "    <tr>\n",
       "      <th>34</th>\n",
       "      <td>34</td>\n",
       "      <td>Between 36 and 45</td>\n",
       "      <td>Male</td>\n",
       "      <td>Spanish</td>\n",
       "      <td>The United States</td>\n",
       "      <td>Spanish</td>\n",
       "      <td>English</td>\n",
       "      <td>Bachelor's degree</td>\n",
       "      <td>Full time</td>\n",
       "      <td>No</td>\n",
       "      <td>Art</td>\n",
       "      <td>UI/UX</td>\n",
       "      <td>Ironhack</td>\n",
       "      <td>2022-09-08 00:00:00</td>\n",
       "      <td>True</td>\n",
       "      <td>Yes</td>\n",
       "      <td>between 3 and 12 months</td>\n",
       "      <td>Between 50 and 100</td>\n",
       "      <td>between 1year and 3 years</td>\n",
       "      <td>NaN</td>\n",
       "      <td>NaN</td>\n",
       "      <td>NaN</td>\n",
       "      <td>3</td>\n",
       "      <td>4</td>\n",
       "      <td>3</td>\n",
       "      <td>3</td>\n",
       "      <td>4</td>\n",
       "      <td>47.828163</td>\n",
       "      <td>-122.598365</td>\n",
       "    </tr>\n",
       "    <tr>\n",
       "      <th>35</th>\n",
       "      <td>35</td>\n",
       "      <td>Between 36 and 45</td>\n",
       "      <td>Female</td>\n",
       "      <td>Turkish</td>\n",
       "      <td>Germany</td>\n",
       "      <td>Turkish</td>\n",
       "      <td>English, German</td>\n",
       "      <td>Bachelor's degree</td>\n",
       "      <td>Full time</td>\n",
       "      <td>No</td>\n",
       "      <td>Law</td>\n",
       "      <td>UI/UX</td>\n",
       "      <td>Spiced</td>\n",
       "      <td>2023-06-22 00:00:00</td>\n",
       "      <td>True</td>\n",
       "      <td>Yes</td>\n",
       "      <td>between 3 and 12 months</td>\n",
       "      <td>Between 50 and 100</td>\n",
       "      <td>between 1year and 3 years</td>\n",
       "      <td>NaN</td>\n",
       "      <td>NaN</td>\n",
       "      <td>NaN</td>\n",
       "      <td>3</td>\n",
       "      <td>2</td>\n",
       "      <td>4</td>\n",
       "      <td>4</td>\n",
       "      <td>5</td>\n",
       "      <td>51.510000</td>\n",
       "      <td>9.910000</td>\n",
       "    </tr>\n",
       "    <tr>\n",
       "      <th>36</th>\n",
       "      <td>36</td>\n",
       "      <td>Between 36 and 45</td>\n",
       "      <td>Female</td>\n",
       "      <td>German</td>\n",
       "      <td>Germany</td>\n",
       "      <td>German</td>\n",
       "      <td>Spanish</td>\n",
       "      <td>Bachelor's degree</td>\n",
       "      <td>Full time</td>\n",
       "      <td>No</td>\n",
       "      <td>civil engineering</td>\n",
       "      <td>Data Analysis</td>\n",
       "      <td>Ironhack</td>\n",
       "      <td>2023-06-15 00:00:00</td>\n",
       "      <td>True</td>\n",
       "      <td>Yes</td>\n",
       "      <td>between 3 and 12 months</td>\n",
       "      <td>Between 50 and 100</td>\n",
       "      <td>between 1year and 3 years</td>\n",
       "      <td>NaN</td>\n",
       "      <td>NaN</td>\n",
       "      <td>NaN</td>\n",
       "      <td>4</td>\n",
       "      <td>3</td>\n",
       "      <td>3</td>\n",
       "      <td>4</td>\n",
       "      <td>4</td>\n",
       "      <td>51.510000</td>\n",
       "      <td>9.910000</td>\n",
       "    </tr>\n",
       "    <tr>\n",
       "      <th>37</th>\n",
       "      <td>37</td>\n",
       "      <td>Between 36 and 45</td>\n",
       "      <td>Male</td>\n",
       "      <td>Spanish</td>\n",
       "      <td>The United States</td>\n",
       "      <td>Spanish</td>\n",
       "      <td>English</td>\n",
       "      <td>Bachelor's degree</td>\n",
       "      <td>Full time</td>\n",
       "      <td>No</td>\n",
       "      <td>Journalism</td>\n",
       "      <td>UI/UX</td>\n",
       "      <td>Ironhack</td>\n",
       "      <td>2022-09-08 00:00:00</td>\n",
       "      <td>True</td>\n",
       "      <td>Yes</td>\n",
       "      <td>between 3 and 12 months</td>\n",
       "      <td>Between 50 and 100</td>\n",
       "      <td>between 1year and 3 years</td>\n",
       "      <td>NaN</td>\n",
       "      <td>NaN</td>\n",
       "      <td>NaN</td>\n",
       "      <td>3</td>\n",
       "      <td>4</td>\n",
       "      <td>3</td>\n",
       "      <td>3</td>\n",
       "      <td>4</td>\n",
       "      <td>47.828163</td>\n",
       "      <td>-122.598365</td>\n",
       "    </tr>\n",
       "    <tr>\n",
       "      <th>38</th>\n",
       "      <td>38</td>\n",
       "      <td>Between 36 and 45</td>\n",
       "      <td>Female</td>\n",
       "      <td>Turkish</td>\n",
       "      <td>Germany</td>\n",
       "      <td>Turkish</td>\n",
       "      <td>English, German</td>\n",
       "      <td>Bachelor's degree</td>\n",
       "      <td>Full time</td>\n",
       "      <td>No</td>\n",
       "      <td>Politics</td>\n",
       "      <td>UI/UX</td>\n",
       "      <td>Spiced</td>\n",
       "      <td>2023-06-22 00:00:00</td>\n",
       "      <td>True</td>\n",
       "      <td>Yes</td>\n",
       "      <td>between 3 and 12 months</td>\n",
       "      <td>Between 50 and 100</td>\n",
       "      <td>between 1year and 3 years</td>\n",
       "      <td>NaN</td>\n",
       "      <td>NaN</td>\n",
       "      <td>NaN</td>\n",
       "      <td>3</td>\n",
       "      <td>2</td>\n",
       "      <td>4</td>\n",
       "      <td>4</td>\n",
       "      <td>5</td>\n",
       "      <td>51.510000</td>\n",
       "      <td>9.910000</td>\n",
       "    </tr>\n",
       "  </tbody>\n",
       "</table>\n",
       "</div>"
      ],
      "text/plain": [
       "    Column1                Age     sex  Nationality               base  \\\n",
       "0         0  Between 36 and 45    Male      British        Netherlands   \n",
       "1         1  Between 24 and 35    Male       German           Portugal   \n",
       "2         2  Between 24 and 35  Female      Iranian            Germany   \n",
       "3         3  Between 24 and 35  Female        Swiss            Germany   \n",
       "4         4  Between 46 and 60    Male       German            Germany   \n",
       "5         5  Between 36 and 45    Male    Ethiopian            Germany   \n",
       "6         6  Between 24 and 35  Female      Iranian            Germany   \n",
       "7         7  Between 24 and 35  Female     Iranian             Germany   \n",
       "8         8  Between 24 and 35  Female     Romanian            Germany   \n",
       "9         9  Between 24 and 35  Female     American  The United States   \n",
       "10       10  Between 24 and 35  Female    brazilian             Brazil   \n",
       "11       11  Between 24 and 35  Female  Latin/Cuban  The United States   \n",
       "12       12  Between 24 and 35    Male   Portuguese              Spain   \n",
       "13       13  Between 24 and 35  Female    Pakistani           Germany    \n",
       "14       14  Between 36 and 45  Female       Indian        Netherlands   \n",
       "15       15  Between 24 and 35    Male        Spain              Spain   \n",
       "16       16  Between 46 and 60    Male       French        Netherlands   \n",
       "17       17  Between 24 and 35  Female     Turkish            Germany    \n",
       "18       18  Between 24 and 35    Male       Indian           Germany    \n",
       "19       19  Between 24 and 35    Male      Serbian           Germany    \n",
       "20       20  Between 24 and 35  Female       Indian           Germany    \n",
       "21       21  Between 24 and 35    Male    Brazilian           Germany    \n",
       "22       22  Between 24 and 35    Male      Iranian           Germany    \n",
       "23       23  Between 36 and 45    Male      Spanish            Germany   \n",
       "24       24  Between 36 and 45  Female        Dutch        Netherlands   \n",
       "25       25  Between 24 and 35  Female      Iranian           Germany    \n",
       "26       26  Between 24 and 35  Female      Iranian           Germany    \n",
       "27       27  Between 24 and 35    Male      Iranian           Germany    \n",
       "28       28  Between 24 and 35    Male      Iranian            Germany   \n",
       "29       29  Between 24 and 35    Male       German            Germany   \n",
       "30       30  Between 24 and 35    Male   Portuguese              Spain   \n",
       "31       31  Between 36 and 45  Female    Brazilian             Brazil   \n",
       "32       32  Between 24 and 35    Male      Irainia            Germany   \n",
       "33       33  Between 36 and 45    Male       German            Germany   \n",
       "34       34  Between 36 and 45    Male      Spanish  The United States   \n",
       "35       35  Between 36 and 45  Female     Turkish             Germany   \n",
       "36       36  Between 36 and 45  Female       German            Germany   \n",
       "37       37  Between 36 and 45    Male      Spanish  The United States   \n",
       "38       38  Between 36 and 45  Female     Turkish             Germany   \n",
       "\n",
       "   Mother_tongue                       Other_languages  \\\n",
       "0        English                                 Dutch   \n",
       "1         German                        english, dutch   \n",
       "2        Persian                               English   \n",
       "3         German                 English, Swiss-German   \n",
       "4         German                      English, Spanish   \n",
       "5        Amharic                               English   \n",
       "6        Persian                               English   \n",
       "7   Azerbaijani              Persian. English. Turkish   \n",
       "8       Romanian                      English, Spanish   \n",
       "9        English                                  none   \n",
       "10    portuguese                               english   \n",
       "11       Spanish                               English   \n",
       "12    Portuguese                   Spanish and English   \n",
       "13          Urdu                               English   \n",
       "14         Hindi                               English   \n",
       "15       Spanish             Catalan, English, Russian   \n",
       "16       English                 French and some Dutch   \n",
       "17       Turkish               German English Russian    \n",
       "18     Malayalam                               English   \n",
       "19       Serbian  English, Spanish and a bit of German   \n",
       "20        Telugu                        English,German   \n",
       "21    Portuguese                    English and German   \n",
       "22       Persian                working - only English   \n",
       "23       Spanisj                 2: english and german   \n",
       "24         Dutch                               English   \n",
       "25       Persian                       English, German   \n",
       "26       persian                               english   \n",
       "27       Persian                               English   \n",
       "28       Persian                               English   \n",
       "29        German                               English   \n",
       "30    Portuguese             English, Spanish, Italian   \n",
       "31    Portuguese                               English   \n",
       "32        German                               English   \n",
       "33        German                               Spanish   \n",
       "34       Spanish                               English   \n",
       "35       Turkish                       English, German   \n",
       "36        German                               Spanish   \n",
       "37       Spanish                               English   \n",
       "38       Turkish                       English, German   \n",
       "\n",
       "                             education  Part_full  working_student  \\\n",
       "0                    Bachelor's degree  Full time               No   \n",
       "1                    Bachelor's degree  Full time  Yes - Part time   \n",
       "2                    Bachelor's degree  Full time               No   \n",
       "3   Some college or associate's degree  Full time               No   \n",
       "4                    Bachelor's degree  Full time               No   \n",
       "5                    Bachelor's degree  Full time               No   \n",
       "6                    Bachelor's degree  Full time               No   \n",
       "7                      Master's degree  Full time  Yes - Part time   \n",
       "8                      Master's degree  Part time  Yes - Part time   \n",
       "9                    Bachelor's degree  Full time               No   \n",
       "10                   Bachelor's degree  Full time               No   \n",
       "11                   Bachelor's degree  Part time  Yes - Full time   \n",
       "12                   Bachelor's degree  Full time  Yes - Full time   \n",
       "13                   Bachelor's degree  Full time               No   \n",
       "14                     Master's degree  Full time               No   \n",
       "15                     Master's degree  Part time  Yes - Part time   \n",
       "16  Some college or associate's degree  Full time               No   \n",
       "17                     Master's degree  Full time               No   \n",
       "18                     Master's degree  Full time               No   \n",
       "19  Some college or associate's degree  Full time               No   \n",
       "20                   Bachelor's degree  Full time               No   \n",
       "21                   Bachelor's degree  Full time               No   \n",
       "22    Doctorate or professional degree  Full time               No   \n",
       "23  Some college or associate's degree  Part time               No   \n",
       "24                   Bachelor's degree  Full time               No   \n",
       "25                   Bachelor's degree  Full time               No   \n",
       "26                   Bachelor's degree  Part time  Yes - Part time   \n",
       "27                   Bachelor's degree  Part time  Yes - Part time   \n",
       "28                   Bachelor's degree  Part time  Yes - Full time   \n",
       "29                     Master's degree  Full time               No   \n",
       "30   High school diploma or equivalent  Full time               No   \n",
       "31                     Master's degree  Full time               No   \n",
       "32                   Bachelor's degree  Part time  Yes - Full time   \n",
       "33                   Bachelor's degree  Full time               No   \n",
       "34                   Bachelor's degree  Full time               No   \n",
       "35                   Bachelor's degree  Full time               No   \n",
       "36                   Bachelor's degree  Full time               No   \n",
       "37                   Bachelor's degree  Full time               No   \n",
       "38                   Bachelor's degree  Full time               No   \n",
       "\n",
       "                                       Academic_major Bootcamp_subject  \\\n",
       "0                                            Fine Art            UI/UX   \n",
       "1                                       Communication           WebDev   \n",
       "2                                   Civil engineering           WebDev   \n",
       "3                           Early Childhood Education            UI/UX   \n",
       "4                                      Science of Art           WebDev   \n",
       "5                                    Computer science           WebDev   \n",
       "6   Conservation and restoration of cultural heritage           WebDev   \n",
       "7                          MBA in project management             UI/UX   \n",
       "8                                    Natural Sciences    Data Analysis   \n",
       "9                          Sociology and Anthropology            UI/UX   \n",
       "10                          architecture and urbanism    Data Analysis   \n",
       "11                            Bachelor's in Fine Arts           WebDev   \n",
       "12                            Business Administration    Data Analysis   \n",
       "13                                          Computers    Data Analysis   \n",
       "14                                          Chemistry    Data Analysis   \n",
       "15                                           Cytology    Data Analysis   \n",
       "16                                   Software Testing    Data Analysis   \n",
       "17                                          Politics            WebDev   \n",
       "18                          MBA : Big Data Management    Data Analysis   \n",
       "19                                   Web development            WebDev   \n",
       "20                                        Electronics           WebDev   \n",
       "21                                        Journalism            WebDev   \n",
       "22                  Linguistics and Cognitive Science    Data Analysis   \n",
       "23                               Automotive tecnician    Data Analysis   \n",
       "24                                 Bachelor of Design    Data Analysis   \n",
       "25                                  Civil engineering  Cyber security    \n",
       "26                                  Civil engineering    Data Analysis   \n",
       "27                                 civil engineering             UI/UX   \n",
       "28                                   Computer science    Data Analysis   \n",
       "29                                                Art           WebDev   \n",
       "30  I started studying Civil Engineering but did n...           WebDev   \n",
       "31                                                 CS           WebDev   \n",
       "32                                                 CS            UI/UX   \n",
       "33                                                Law    Data Analysis   \n",
       "34                                                Art            UI/UX   \n",
       "35                                                Law            UI/UX   \n",
       "36                                 civil engineering     Data Analysis   \n",
       "37                                        Journalism             UI/UX   \n",
       "38                                          Politics             UI/UX   \n",
       "\n",
       "   Institute      Graduation_time  local_language Employee  \\\n",
       "0   Ironhack  2024-02-03 00:00:00            True  Not yet   \n",
       "1   Ironhack  2023-12-05 00:00:00           False  Not yet   \n",
       "2     Spiced  2023-08-09 00:00:00           False  Not yet   \n",
       "3   Ironhack  2023-08-11 00:00:00            True  Not yet   \n",
       "4     Spiced  2023-07-06 00:00:00            True  Not yet   \n",
       "5     Spiced  2023-07-06 00:00:00           False  Not yet   \n",
       "6   Ironhack  2022-06-03 00:00:00           False      Yes   \n",
       "7   Ironhack  2021-12-10 00:00:00           False      Yes   \n",
       "8   Ironhack  2022-07-31 00:00:00           False      Yes   \n",
       "9   Ironhack  2023-12-08 00:00:00            True  Not yet   \n",
       "10  Ironhack  2022-05-21 00:00:00            True      Yes   \n",
       "11  Ironhack  2020-05-09 00:00:00            True      Yes   \n",
       "12  Ironhack  2020-06-30 00:00:00           False  Not yet   \n",
       "13  Ironhack  2014-09-10 00:00:00            True  Not yet   \n",
       "14  Ironhack  2001-04-21 00:00:00            True  Not yet   \n",
       "15  Ironhack           0023-08-31            True      Yes   \n",
       "16  Ironhack  2023-11-06 00:00:00           False  Not yet   \n",
       "17    Spiced  2023-09-01 00:00:00            True  Not yet   \n",
       "18    Spiced  2023-06-02 00:00:00           False  Not yet   \n",
       "19    Spiced  2023-08-09 00:00:00           False  Not yet   \n",
       "20    Spiced  2023-08-09 00:00:00            True  Not yet   \n",
       "21    Spiced  2023-08-08 00:00:00            True  Not yet   \n",
       "22    Spiced  2023-08-22 00:00:00           False  Not yet   \n",
       "23  Ironhack  2022-08-22 00:00:00            True      Yes   \n",
       "24  Ironhack  2023-11-06 00:00:00            True  Not yet   \n",
       "25  Ironhack  2022-09-01 00:00:00            True      Yes   \n",
       "26  Ironhack  2022-06-20 00:00:00           False      Yes   \n",
       "27  Ironhack  2022-04-11 00:00:00           False      Yes   \n",
       "28  Ironhack  2023-07-04 00:00:00           False      Yes   \n",
       "29    Spiced  2022-02-08 00:00:00           False      Yes   \n",
       "30  Ironhack  2023-06-09 00:00:00            True      Yes   \n",
       "31  Ironhack  2023-07-05 00:00:00            True      Yes   \n",
       "32  Ironhack  2023-06-19 00:00:00            True      Yes   \n",
       "33  Ironhack  2023-06-15 00:00:00            True      Yes   \n",
       "34  Ironhack  2022-09-08 00:00:00            True      Yes   \n",
       "35    Spiced  2023-06-22 00:00:00            True      Yes   \n",
       "36  Ironhack  2023-06-15 00:00:00            True      Yes   \n",
       "37  Ironhack  2022-09-08 00:00:00            True      Yes   \n",
       "38    Spiced  2023-06-22 00:00:00            True      Yes   \n",
       "\n",
       "              Time_employee      Apply_employee    Work_exprience_employee  \\\n",
       "0                       NaN                 NaN                        NaN   \n",
       "1                       NaN                 NaN                        NaN   \n",
       "2                       NaN                 NaN                        NaN   \n",
       "3                       NaN                 NaN                        NaN   \n",
       "4                       NaN                 NaN                        NaN   \n",
       "5                       NaN                 NaN                        NaN   \n",
       "6                    1 week        Less than 50                        NaN   \n",
       "7        less than 6 months        Less than 50  between 1year and 3 years   \n",
       "8        less than 6 months        Less than 50  between 1year and 3 years   \n",
       "9                       NaN                 NaN                        NaN   \n",
       "10       less than 6 months        Less than 50                        NaN   \n",
       "11         more than a year       More than 100  between 1year and 3 years   \n",
       "12                      NaN                 NaN                        NaN   \n",
       "13                      NaN                 NaN                        NaN   \n",
       "14                      NaN                 NaN                        NaN   \n",
       "15       less than 6 months       More than 100          more than 3 years   \n",
       "16                      NaN                 NaN                        NaN   \n",
       "17                      NaN                 NaN                        NaN   \n",
       "18                      NaN                 NaN                        NaN   \n",
       "19                      NaN                 NaN                        NaN   \n",
       "20                      NaN                 NaN                        NaN   \n",
       "21                      NaN                 NaN                        NaN   \n",
       "22                      NaN                 NaN                        NaN   \n",
       "23       less than 6 months        Less than 50                        NaN   \n",
       "24                      NaN                 NaN                        NaN   \n",
       "25  between 3 and 12 months  Between 50 and 100           less than 1 year   \n",
       "26  between 3 and 12 months  Between 50 and 100           less than 1 year   \n",
       "27  between 3 and 12 months  Between 50 and 100           less than 1 year   \n",
       "28  between 3 and 12 months       More than 100           less than 1 year   \n",
       "29         more than a year       More than 100                        NaN   \n",
       "30       less than 6 months        Less than 50                        NaN   \n",
       "31  between 3 and 12 months       More than 100  between 1year and 3 years   \n",
       "32  between 3 and 12 months  Between 50 and 100  between 1year and 3 years   \n",
       "33  between 3 and 12 months  Between 50 and 100  between 1year and 3 years   \n",
       "34  between 3 and 12 months  Between 50 and 100  between 1year and 3 years   \n",
       "35  between 3 and 12 months  Between 50 and 100  between 1year and 3 years   \n",
       "36  between 3 and 12 months  Between 50 and 100  between 1year and 3 years   \n",
       "37  between 3 and 12 months  Between 50 and 100  between 1year and 3 years   \n",
       "38  between 3 and 12 months  Between 50 and 100  between 1year and 3 years   \n",
       "\n",
       "                Time_hunter        Apply_hunter  \\\n",
       "0          Not started yet.                 NaN   \n",
       "1          Not started yet.        Less than 50   \n",
       "2        Less than 6 months        Less than 50   \n",
       "3                       NaN                 NaN   \n",
       "4        Less than 6 months        Less than 50   \n",
       "5        Less than 6 months  Between 50 and 100   \n",
       "6                       NaN                 NaN   \n",
       "7                       NaN                 NaN   \n",
       "8                       NaN                 NaN   \n",
       "9          Not started yet.        Less than 50   \n",
       "10                      NaN                 NaN   \n",
       "11                      NaN                 NaN   \n",
       "12                      NaN                 NaN   \n",
       "13         Not started yet.        Less than 50   \n",
       "14  Between 6 and 12 months        Less than 50   \n",
       "15                      NaN                 NaN   \n",
       "16        Just starting now        Less than 50   \n",
       "17                      NaN                 NaN   \n",
       "18       Less than 6 months  Between 50 and 100   \n",
       "19       Less than 6 months       More than 100   \n",
       "20       Less than 6 months       More than 100   \n",
       "21       Less than 6 months                 332   \n",
       "22       Less than 6 months       More than 100   \n",
       "23                      NaN                 NaN   \n",
       "24       Less than 6 months                   3   \n",
       "25                      NaN                 NaN   \n",
       "26                      NaN                 NaN   \n",
       "27                      NaN                 NaN   \n",
       "28                      NaN                 NaN   \n",
       "29                      NaN                 NaN   \n",
       "30                      NaN                 NaN   \n",
       "31                      NaN                 NaN   \n",
       "32                      NaN                 NaN   \n",
       "33                      NaN                 NaN   \n",
       "34                      NaN                 NaN   \n",
       "35                      NaN                 NaN   \n",
       "36                      NaN                 NaN   \n",
       "37                      NaN                 NaN   \n",
       "38                      NaN                 NaN   \n",
       "\n",
       "                                Work_exprience_hunter  Subjective_technical  \\\n",
       "0                                    less than 1 year                     4   \n",
       "1                          between 1 year and 3 years                     5   \n",
       "2                                                 NaN                     2   \n",
       "3                                                 NaN                     4   \n",
       "4                                    less than 1 year                     5   \n",
       "5                                   more than 3 years                     4   \n",
       "6                                                 NaN                     3   \n",
       "7                                                 NaN                     4   \n",
       "8                                                 NaN                     5   \n",
       "9                                                 NaN                     4   \n",
       "10                                                NaN                     4   \n",
       "11                                                NaN                     5   \n",
       "12                                                NaN                     4   \n",
       "13                                   less than 1 year                     4   \n",
       "14                                                NaN                     5   \n",
       "15                                                NaN                     3   \n",
       "16                                  more than 3 years                     5   \n",
       "17                                                NaN                     1   \n",
       "18                         between 1 year and 3 years                     5   \n",
       "19                                   less than 1 year                     5   \n",
       "20                         between 1 year and 3 years                     4   \n",
       "21                                   less than 1 year                     4   \n",
       "22  I thought i need to address this more speciifi...                     4   \n",
       "23                                                NaN                     4   \n",
       "24                                                NaN                     5   \n",
       "25                                                NaN                     4   \n",
       "26                                                NaN                     4   \n",
       "27                                                NaN                     4   \n",
       "28                                                NaN                     4   \n",
       "29                                                NaN                     4   \n",
       "30                                                NaN                     5   \n",
       "31                                                NaN                     3   \n",
       "32                                                NaN                     5   \n",
       "33                                                NaN                     4   \n",
       "34                                                NaN                     3   \n",
       "35                                                NaN                     3   \n",
       "36                                                NaN                     4   \n",
       "37                                                NaN                     3   \n",
       "38                                                NaN                     3   \n",
       "\n",
       "    Subjective_soft  Subjective_language  Subjective_academia  \\\n",
       "0                 4                    2                    3   \n",
       "1                 4                    4                    3   \n",
       "2                 3                    2                    1   \n",
       "3                 3                    2                    1   \n",
       "4                 4                    4                    3   \n",
       "5                 2                    3                    3   \n",
       "6                 5                    3                    3   \n",
       "7                 4                    2                    1   \n",
       "8                 3                    2                    4   \n",
       "9                 4                    2                    2   \n",
       "10                5                    5                    2   \n",
       "11                3                    4                    5   \n",
       "12                4                    3                    2   \n",
       "13                4                    2                    4   \n",
       "14                4                    3                    4   \n",
       "15                4                    5                    5   \n",
       "16                4                    1                    3   \n",
       "17                1                    1                    2   \n",
       "18                4                    3                    2   \n",
       "19                5                    1                    1   \n",
       "20                5                    5                    4   \n",
       "21                4                    4                    4   \n",
       "22                2                    3                    1   \n",
       "23                4                    5                    3   \n",
       "24                5                    4                    4   \n",
       "25                4                    3                    4   \n",
       "26                4                    3                    4   \n",
       "27                4                    3                    4   \n",
       "28                3                    2                    3   \n",
       "29                3                    3                    3   \n",
       "30                4                    4                    3   \n",
       "31                3                    4                    4   \n",
       "32                4                    4                    4   \n",
       "33                3                    3                    4   \n",
       "34                4                    3                    3   \n",
       "35                2                    4                    4   \n",
       "36                3                    3                    4   \n",
       "37                4                    3                    3   \n",
       "38                2                    4                    4   \n",
       "\n",
       "    Subjective_bootcamp   latitude   longitude  \n",
       "0                     2  52.243498    5.634323  \n",
       "1                     2  39.662165   -8.135352  \n",
       "2                     1  51.510000    9.910000  \n",
       "3                     4  51.510000    9.910000  \n",
       "4                     3  51.510000    9.910000  \n",
       "5                     2  51.510000    9.910000  \n",
       "6                     4  51.510000    9.910000  \n",
       "7                     3  51.510000    9.910000  \n",
       "8                     1  51.510000    9.910000  \n",
       "9                     2  47.828163 -122.598365  \n",
       "10                    5 -10.333333  -53.200000  \n",
       "11                    2  47.828163 -122.598365  \n",
       "12                    2  39.326068   -4.837979  \n",
       "13                    4  51.510000    9.910000  \n",
       "14                    3  52.243498    5.634323  \n",
       "15                    4  39.326068   -4.837979  \n",
       "16                    2  52.243498    5.634323  \n",
       "17                    1  51.510000    9.910000  \n",
       "18                    2  51.510000    9.910000  \n",
       "19                    2  51.510000    9.910000  \n",
       "20                    3  51.510000    9.910000  \n",
       "21                    1  51.510000    9.910000  \n",
       "22                    1  51.510000    9.910000  \n",
       "23                    3  51.510000    9.910000  \n",
       "24                    4  52.243498    5.634323  \n",
       "25                    2  51.510000    9.910000  \n",
       "26                    2  51.510000    9.910000  \n",
       "27                    2  51.510000    9.910000  \n",
       "28                    3  51.510000    9.910000  \n",
       "29                    2  51.510000    9.910000  \n",
       "30                    4  39.326068   -4.837979  \n",
       "31                    3 -10.333333  -53.200000  \n",
       "32                    5  51.510000    9.910000  \n",
       "33                    4  51.510000    9.910000  \n",
       "34                    4  47.828163 -122.598365  \n",
       "35                    5  51.510000    9.910000  \n",
       "36                    4  51.510000    9.910000  \n",
       "37                    4  47.828163 -122.598365  \n",
       "38                    5  51.510000    9.910000  "
      ]
     },
     "execution_count": 3,
     "metadata": {},
     "output_type": "execute_result"
    }
   ],
   "source": [
    "raw_preprocessed = pd.read_excel('raw_EDA.xlsx')\n",
    "pd.set_option('display.max_columns', None)\n",
    "raw_preprocessed"
   ]
  },
  {
   "cell_type": "code",
   "execution_count": 4,
   "metadata": {},
   "outputs": [
    {
     "data": {
      "text/html": [
       "<div>\n",
       "<style scoped>\n",
       "    .dataframe tbody tr th:only-of-type {\n",
       "        vertical-align: middle;\n",
       "    }\n",
       "\n",
       "    .dataframe tbody tr th {\n",
       "        vertical-align: top;\n",
       "    }\n",
       "\n",
       "    .dataframe thead th {\n",
       "        text-align: right;\n",
       "    }\n",
       "</style>\n",
       "<table border=\"1\" class=\"dataframe\">\n",
       "  <thead>\n",
       "    <tr style=\"text-align: right;\">\n",
       "      <th></th>\n",
       "      <th>Employee</th>\n",
       "      <th>Work_exprience_employee</th>\n",
       "      <th>Work_exprience_hunter</th>\n",
       "    </tr>\n",
       "  </thead>\n",
       "  <tbody>\n",
       "    <tr>\n",
       "      <th>0</th>\n",
       "      <td>Not yet</td>\n",
       "      <td>None</td>\n",
       "      <td>less than 1 year</td>\n",
       "    </tr>\n",
       "    <tr>\n",
       "      <th>24</th>\n",
       "      <td>Not yet</td>\n",
       "      <td>None</td>\n",
       "      <td>NaN</td>\n",
       "    </tr>\n",
       "    <tr>\n",
       "      <th>22</th>\n",
       "      <td>Not yet</td>\n",
       "      <td>None</td>\n",
       "      <td>I thought i need to address this more speciifi...</td>\n",
       "    </tr>\n",
       "    <tr>\n",
       "      <th>21</th>\n",
       "      <td>Not yet</td>\n",
       "      <td>less than 1 year</td>\n",
       "      <td>less than 1 year</td>\n",
       "    </tr>\n",
       "    <tr>\n",
       "      <th>20</th>\n",
       "      <td>Not yet</td>\n",
       "      <td>between 1 year and 3 years</td>\n",
       "      <td>between 1 year and 3 years</td>\n",
       "    </tr>\n",
       "    <tr>\n",
       "      <th>18</th>\n",
       "      <td>Not yet</td>\n",
       "      <td>between 1 year and 3 years</td>\n",
       "      <td>between 1 year and 3 years</td>\n",
       "    </tr>\n",
       "    <tr>\n",
       "      <th>17</th>\n",
       "      <td>Not yet</td>\n",
       "      <td>None</td>\n",
       "      <td>NaN</td>\n",
       "    </tr>\n",
       "    <tr>\n",
       "      <th>16</th>\n",
       "      <td>Not yet</td>\n",
       "      <td>more than 3 years</td>\n",
       "      <td>more than 3 years</td>\n",
       "    </tr>\n",
       "    <tr>\n",
       "      <th>14</th>\n",
       "      <td>Not yet</td>\n",
       "      <td>None</td>\n",
       "      <td>NaN</td>\n",
       "    </tr>\n",
       "    <tr>\n",
       "      <th>13</th>\n",
       "      <td>Not yet</td>\n",
       "      <td>None</td>\n",
       "      <td>less than 1 year</td>\n",
       "    </tr>\n",
       "    <tr>\n",
       "      <th>12</th>\n",
       "      <td>Not yet</td>\n",
       "      <td>None</td>\n",
       "      <td>NaN</td>\n",
       "    </tr>\n",
       "    <tr>\n",
       "      <th>19</th>\n",
       "      <td>Not yet</td>\n",
       "      <td>less than 1 year</td>\n",
       "      <td>less than 1 year</td>\n",
       "    </tr>\n",
       "    <tr>\n",
       "      <th>9</th>\n",
       "      <td>Not yet</td>\n",
       "      <td>None</td>\n",
       "      <td>NaN</td>\n",
       "    </tr>\n",
       "    <tr>\n",
       "      <th>5</th>\n",
       "      <td>Not yet</td>\n",
       "      <td>more than 3 years</td>\n",
       "      <td>more than 3 years</td>\n",
       "    </tr>\n",
       "    <tr>\n",
       "      <th>4</th>\n",
       "      <td>Not yet</td>\n",
       "      <td>less than 1 year</td>\n",
       "      <td>less than 1 year</td>\n",
       "    </tr>\n",
       "    <tr>\n",
       "      <th>3</th>\n",
       "      <td>Not yet</td>\n",
       "      <td>None</td>\n",
       "      <td>NaN</td>\n",
       "    </tr>\n",
       "    <tr>\n",
       "      <th>2</th>\n",
       "      <td>Not yet</td>\n",
       "      <td>None</td>\n",
       "      <td>NaN</td>\n",
       "    </tr>\n",
       "    <tr>\n",
       "      <th>1</th>\n",
       "      <td>Not yet</td>\n",
       "      <td>None</td>\n",
       "      <td>between 1 year and 3 years</td>\n",
       "    </tr>\n",
       "    <tr>\n",
       "      <th>10</th>\n",
       "      <td>Yes</td>\n",
       "      <td>None</td>\n",
       "      <td>NaN</td>\n",
       "    </tr>\n",
       "    <tr>\n",
       "      <th>36</th>\n",
       "      <td>Yes</td>\n",
       "      <td>between 1 year and 3 years</td>\n",
       "      <td>NaN</td>\n",
       "    </tr>\n",
       "    <tr>\n",
       "      <th>35</th>\n",
       "      <td>Yes</td>\n",
       "      <td>between 1 year and 3 years</td>\n",
       "      <td>NaN</td>\n",
       "    </tr>\n",
       "    <tr>\n",
       "      <th>34</th>\n",
       "      <td>Yes</td>\n",
       "      <td>between 1 year and 3 years</td>\n",
       "      <td>NaN</td>\n",
       "    </tr>\n",
       "    <tr>\n",
       "      <th>33</th>\n",
       "      <td>Yes</td>\n",
       "      <td>between 1 year and 3 years</td>\n",
       "      <td>NaN</td>\n",
       "    </tr>\n",
       "    <tr>\n",
       "      <th>32</th>\n",
       "      <td>Yes</td>\n",
       "      <td>between 1 year and 3 years</td>\n",
       "      <td>NaN</td>\n",
       "    </tr>\n",
       "    <tr>\n",
       "      <th>31</th>\n",
       "      <td>Yes</td>\n",
       "      <td>between 1 year and 3 years</td>\n",
       "      <td>NaN</td>\n",
       "    </tr>\n",
       "    <tr>\n",
       "      <th>30</th>\n",
       "      <td>Yes</td>\n",
       "      <td>None</td>\n",
       "      <td>NaN</td>\n",
       "    </tr>\n",
       "    <tr>\n",
       "      <th>29</th>\n",
       "      <td>Yes</td>\n",
       "      <td>None</td>\n",
       "      <td>NaN</td>\n",
       "    </tr>\n",
       "    <tr>\n",
       "      <th>28</th>\n",
       "      <td>Yes</td>\n",
       "      <td>less than 1 year</td>\n",
       "      <td>NaN</td>\n",
       "    </tr>\n",
       "    <tr>\n",
       "      <th>25</th>\n",
       "      <td>Yes</td>\n",
       "      <td>less than 1 year</td>\n",
       "      <td>NaN</td>\n",
       "    </tr>\n",
       "    <tr>\n",
       "      <th>26</th>\n",
       "      <td>Yes</td>\n",
       "      <td>less than 1 year</td>\n",
       "      <td>NaN</td>\n",
       "    </tr>\n",
       "    <tr>\n",
       "      <th>11</th>\n",
       "      <td>Yes</td>\n",
       "      <td>between 1 year and 3 years</td>\n",
       "      <td>NaN</td>\n",
       "    </tr>\n",
       "    <tr>\n",
       "      <th>23</th>\n",
       "      <td>Yes</td>\n",
       "      <td>None</td>\n",
       "      <td>NaN</td>\n",
       "    </tr>\n",
       "    <tr>\n",
       "      <th>37</th>\n",
       "      <td>Yes</td>\n",
       "      <td>between 1 year and 3 years</td>\n",
       "      <td>NaN</td>\n",
       "    </tr>\n",
       "    <tr>\n",
       "      <th>6</th>\n",
       "      <td>Yes</td>\n",
       "      <td>None</td>\n",
       "      <td>NaN</td>\n",
       "    </tr>\n",
       "    <tr>\n",
       "      <th>7</th>\n",
       "      <td>Yes</td>\n",
       "      <td>between 1 year and 3 years</td>\n",
       "      <td>NaN</td>\n",
       "    </tr>\n",
       "    <tr>\n",
       "      <th>15</th>\n",
       "      <td>Yes</td>\n",
       "      <td>more than 3 years</td>\n",
       "      <td>NaN</td>\n",
       "    </tr>\n",
       "    <tr>\n",
       "      <th>8</th>\n",
       "      <td>Yes</td>\n",
       "      <td>between 1 year and 3 years</td>\n",
       "      <td>NaN</td>\n",
       "    </tr>\n",
       "    <tr>\n",
       "      <th>27</th>\n",
       "      <td>Yes</td>\n",
       "      <td>less than 1 year</td>\n",
       "      <td>NaN</td>\n",
       "    </tr>\n",
       "    <tr>\n",
       "      <th>38</th>\n",
       "      <td>Yes</td>\n",
       "      <td>between 1 year and 3 years</td>\n",
       "      <td>NaN</td>\n",
       "    </tr>\n",
       "  </tbody>\n",
       "</table>\n",
       "</div>"
      ],
      "text/plain": [
       "   Employee     Work_exprience_employee  \\\n",
       "0   Not yet                        None   \n",
       "24  Not yet                        None   \n",
       "22  Not yet                        None   \n",
       "21  Not yet            less than 1 year   \n",
       "20  Not yet  between 1 year and 3 years   \n",
       "18  Not yet  between 1 year and 3 years   \n",
       "17  Not yet                        None   \n",
       "16  Not yet           more than 3 years   \n",
       "14  Not yet                        None   \n",
       "13  Not yet                        None   \n",
       "12  Not yet                        None   \n",
       "19  Not yet            less than 1 year   \n",
       "9   Not yet                        None   \n",
       "5   Not yet           more than 3 years   \n",
       "4   Not yet            less than 1 year   \n",
       "3   Not yet                        None   \n",
       "2   Not yet                        None   \n",
       "1   Not yet                        None   \n",
       "10      Yes                        None   \n",
       "36      Yes  between 1 year and 3 years   \n",
       "35      Yes  between 1 year and 3 years   \n",
       "34      Yes  between 1 year and 3 years   \n",
       "33      Yes  between 1 year and 3 years   \n",
       "32      Yes  between 1 year and 3 years   \n",
       "31      Yes  between 1 year and 3 years   \n",
       "30      Yes                        None   \n",
       "29      Yes                        None   \n",
       "28      Yes            less than 1 year   \n",
       "25      Yes            less than 1 year   \n",
       "26      Yes            less than 1 year   \n",
       "11      Yes  between 1 year and 3 years   \n",
       "23      Yes                        None   \n",
       "37      Yes  between 1 year and 3 years   \n",
       "6       Yes                        None   \n",
       "7       Yes  between 1 year and 3 years   \n",
       "15      Yes           more than 3 years   \n",
       "8       Yes  between 1 year and 3 years   \n",
       "27      Yes            less than 1 year   \n",
       "38      Yes  between 1 year and 3 years   \n",
       "\n",
       "                                Work_exprience_hunter  \n",
       "0                                    less than 1 year  \n",
       "24                                                NaN  \n",
       "22  I thought i need to address this more speciifi...  \n",
       "21                                   less than 1 year  \n",
       "20                         between 1 year and 3 years  \n",
       "18                         between 1 year and 3 years  \n",
       "17                                                NaN  \n",
       "16                                  more than 3 years  \n",
       "14                                                NaN  \n",
       "13                                   less than 1 year  \n",
       "12                                                NaN  \n",
       "19                                   less than 1 year  \n",
       "9                                                 NaN  \n",
       "5                                   more than 3 years  \n",
       "4                                    less than 1 year  \n",
       "3                                                 NaN  \n",
       "2                                                 NaN  \n",
       "1                          between 1 year and 3 years  \n",
       "10                                                NaN  \n",
       "36                                                NaN  \n",
       "35                                                NaN  \n",
       "34                                                NaN  \n",
       "33                                                NaN  \n",
       "32                                                NaN  \n",
       "31                                                NaN  \n",
       "30                                                NaN  \n",
       "29                                                NaN  \n",
       "28                                                NaN  \n",
       "25                                                NaN  \n",
       "26                                                NaN  \n",
       "11                                                NaN  \n",
       "23                                                NaN  \n",
       "37                                                NaN  \n",
       "6                                                 NaN  \n",
       "7                                                 NaN  \n",
       "15                                                NaN  \n",
       "8                                                 NaN  \n",
       "27                                                NaN  \n",
       "38                                                NaN  "
      ]
     },
     "execution_count": 4,
     "metadata": {},
     "output_type": "execute_result"
    }
   ],
   "source": [
    "raw_preprocessed.Work_exprience_employee.fillna(raw_preprocessed.Work_exprience_hunter, inplace=True)\n",
    "raw_preprocessed.Work_exprience_employee.fillna('None', inplace=True)\n",
    "raw_preprocessed.loc[raw_preprocessed['Time_hunter'] == 'Not started yet.', 'Work_exprience_employee'] = 'None'\n",
    "raw_preprocessed.Work_exprience_employee.replace('I thought i need to address this more speciifically! if you job in industry then NO. My experience is during my PhD.','None',inplace=True)\n",
    "raw_preprocessed.Work_exprience_employee.replace('between 1year and 3 years', 'between 1 year and 3 years',inplace=True)\n",
    "raw_preprocessed[['Employee','Work_exprience_employee','Work_exprience_hunter']].sort_values(by='Employee')\n"
   ]
  },
  {
   "cell_type": "code",
   "execution_count": 19,
   "metadata": {},
   "outputs": [],
   "source": [
    "def chi2(var1, var2):\n",
    "    Cross_tab = pd.DataFrame(pd.crosstab(index=raw_preprocessed[var1], columns=raw_preprocessed[var2]))\n",
    "    display(Cross_tab)\n",
    "    chi2, p, dof, expected = chi2_contingency(Cross_tab)\n",
    "\n",
    "    print(\"\\nChi-squared statistic:\", round(chi2,2))\n",
    "    print(\"p-value:\", round(p,2))\n",
    "    print(\"Degrees of freedom:\", round(dof,2))\n",
    "    alpha = 0.05\n",
    "    if p < alpha:\n",
    "        print(f\"\\nThere is a significant association between {var1} and {var2}.\")\n",
    "    else:\n",
    "        print(f\"\\n{var1} and {var2} are independent.\")"
   ]
  },
  {
   "cell_type": "code",
   "execution_count": 20,
   "metadata": {},
   "outputs": [
    {
     "data": {
      "text/html": [
       "<div>\n",
       "<style scoped>\n",
       "    .dataframe tbody tr th:only-of-type {\n",
       "        vertical-align: middle;\n",
       "    }\n",
       "\n",
       "    .dataframe tbody tr th {\n",
       "        vertical-align: top;\n",
       "    }\n",
       "\n",
       "    .dataframe thead th {\n",
       "        text-align: right;\n",
       "    }\n",
       "</style>\n",
       "<table border=\"1\" class=\"dataframe\">\n",
       "  <thead>\n",
       "    <tr style=\"text-align: right;\">\n",
       "      <th>Work_exprience_employee</th>\n",
       "      <th>None</th>\n",
       "      <th>between 1 year and 3 years</th>\n",
       "      <th>less than 1 year</th>\n",
       "      <th>more than 3 years</th>\n",
       "    </tr>\n",
       "    <tr>\n",
       "      <th>Employee</th>\n",
       "      <th></th>\n",
       "      <th></th>\n",
       "      <th></th>\n",
       "      <th></th>\n",
       "    </tr>\n",
       "  </thead>\n",
       "  <tbody>\n",
       "    <tr>\n",
       "      <th>Not yet</th>\n",
       "      <td>11</td>\n",
       "      <td>2</td>\n",
       "      <td>3</td>\n",
       "      <td>2</td>\n",
       "    </tr>\n",
       "    <tr>\n",
       "      <th>Yes</th>\n",
       "      <td>5</td>\n",
       "      <td>11</td>\n",
       "      <td>4</td>\n",
       "      <td>1</td>\n",
       "    </tr>\n",
       "  </tbody>\n",
       "</table>\n",
       "</div>"
      ],
      "text/plain": [
       "Work_exprience_employee  None  between 1 year and 3 years  less than 1 year  \\\n",
       "Employee                                                                      \n",
       "Not yet                    11                           2                 3   \n",
       "Yes                         5                          11                 4   \n",
       "\n",
       "Work_exprience_employee  more than 3 years  \n",
       "Employee                                    \n",
       "Not yet                                  2  \n",
       "Yes                                      1  "
      ]
     },
     "metadata": {},
     "output_type": "display_data"
    },
    {
     "name": "stdout",
     "output_type": "stream",
     "text": [
      "\n",
      "Chi-squared statistic: 8.78\n",
      "p-value: 0.03\n",
      "Degrees of freedom: 3\n",
      "\n",
      "There is a significant association between Employee and Work_exprience_employee.\n"
     ]
    },
    {
     "data": {
      "text/html": [
       "<div>\n",
       "<style scoped>\n",
       "    .dataframe tbody tr th:only-of-type {\n",
       "        vertical-align: middle;\n",
       "    }\n",
       "\n",
       "    .dataframe tbody tr th {\n",
       "        vertical-align: top;\n",
       "    }\n",
       "\n",
       "    .dataframe thead th {\n",
       "        text-align: right;\n",
       "    }\n",
       "</style>\n",
       "<table border=\"1\" class=\"dataframe\">\n",
       "  <thead>\n",
       "    <tr style=\"text-align: right;\">\n",
       "      <th>local_language</th>\n",
       "      <th>False</th>\n",
       "      <th>True</th>\n",
       "    </tr>\n",
       "    <tr>\n",
       "      <th>Employee</th>\n",
       "      <th></th>\n",
       "      <th></th>\n",
       "    </tr>\n",
       "  </thead>\n",
       "  <tbody>\n",
       "    <tr>\n",
       "      <th>Not yet</th>\n",
       "      <td>8</td>\n",
       "      <td>10</td>\n",
       "    </tr>\n",
       "    <tr>\n",
       "      <th>Yes</th>\n",
       "      <td>7</td>\n",
       "      <td>14</td>\n",
       "    </tr>\n",
       "  </tbody>\n",
       "</table>\n",
       "</div>"
      ],
      "text/plain": [
       "local_language  False  True \n",
       "Employee                    \n",
       "Not yet             8     10\n",
       "Yes                 7     14"
      ]
     },
     "metadata": {},
     "output_type": "display_data"
    },
    {
     "name": "stdout",
     "output_type": "stream",
     "text": [
      "\n",
      "Chi-squared statistic: 0.15\n",
      "p-value: 0.7\n",
      "Degrees of freedom: 1\n",
      "\n",
      "Employee and local_language are independent.\n"
     ]
    },
    {
     "data": {
      "text/html": [
       "<div>\n",
       "<style scoped>\n",
       "    .dataframe tbody tr th:only-of-type {\n",
       "        vertical-align: middle;\n",
       "    }\n",
       "\n",
       "    .dataframe tbody tr th {\n",
       "        vertical-align: top;\n",
       "    }\n",
       "\n",
       "    .dataframe thead th {\n",
       "        text-align: right;\n",
       "    }\n",
       "</style>\n",
       "<table border=\"1\" class=\"dataframe\">\n",
       "  <thead>\n",
       "    <tr style=\"text-align: right;\">\n",
       "      <th>education</th>\n",
       "      <th>Bachelor's degree</th>\n",
       "      <th>Doctorate or professional degree</th>\n",
       "      <th>High school diploma or equivalent</th>\n",
       "      <th>Master's degree</th>\n",
       "      <th>Some college or associate's degree</th>\n",
       "    </tr>\n",
       "    <tr>\n",
       "      <th>Employee</th>\n",
       "      <th></th>\n",
       "      <th></th>\n",
       "      <th></th>\n",
       "      <th></th>\n",
       "      <th></th>\n",
       "    </tr>\n",
       "  </thead>\n",
       "  <tbody>\n",
       "    <tr>\n",
       "      <th>Not yet</th>\n",
       "      <td>11</td>\n",
       "      <td>1</td>\n",
       "      <td>0</td>\n",
       "      <td>3</td>\n",
       "      <td>3</td>\n",
       "    </tr>\n",
       "    <tr>\n",
       "      <th>Yes</th>\n",
       "      <td>14</td>\n",
       "      <td>0</td>\n",
       "      <td>1</td>\n",
       "      <td>5</td>\n",
       "      <td>1</td>\n",
       "    </tr>\n",
       "  </tbody>\n",
       "</table>\n",
       "</div>"
      ],
      "text/plain": [
       "education  Bachelor's degree  Doctorate or professional degree  \\\n",
       "Employee                                                         \n",
       "Not yet                   11                                 1   \n",
       "Yes                       14                                 0   \n",
       "\n",
       "education  High school diploma or equivalent  Master's degree  \\\n",
       "Employee                                                        \n",
       "Not yet                                    0                3   \n",
       "Yes                                        1                5   \n",
       "\n",
       "education  Some college or associate's degree  \n",
       "Employee                                       \n",
       "Not yet                                     3  \n",
       "Yes                                         1  "
      ]
     },
     "metadata": {},
     "output_type": "display_data"
    },
    {
     "name": "stdout",
     "output_type": "stream",
     "text": [
      "\n",
      "Chi-squared statistic: 3.65\n",
      "p-value: 0.46\n",
      "Degrees of freedom: 4\n",
      "\n",
      "Employee and education are independent.\n"
     ]
    }
   ],
   "source": [
    "for var in ['Work_exprience_employee','local_language','education']:\n",
    "    chi2('Employee',var)"
   ]
  },
  {
   "cell_type": "code",
   "execution_count": 19,
   "metadata": {},
   "outputs": [
    {
     "data": {
      "application/vnd.plotly.v1+json": {
       "config": {
        "plotlyServerURL": "https://plot.ly"
       },
       "data": [
        {
         "alignmentgroup": "True",
         "hovertemplate": "Group=Not yet<br>Work_exprience_employee=%{x}<br>Count=%{y}<extra></extra>",
         "legendgroup": "Not yet",
         "marker": {
          "color": "#636efa",
          "pattern": {
           "shape": ""
          }
         },
         "name": "Not yet",
         "offsetgroup": "Not yet",
         "orientation": "v",
         "showlegend": true,
         "textposition": "auto",
         "type": "bar",
         "x": [
          "None",
          "less than 1 year",
          "between 1 year and 3 years",
          "more than 3 years"
         ],
         "xaxis": "x",
         "y": [
          11,
          3,
          2,
          2
         ],
         "yaxis": "y"
        },
        {
         "alignmentgroup": "True",
         "hovertemplate": "Group=Yes<br>Work_exprience_employee=%{x}<br>Count=%{y}<extra></extra>",
         "legendgroup": "Yes",
         "marker": {
          "color": "#EF553B",
          "pattern": {
           "shape": ""
          }
         },
         "name": "Yes",
         "offsetgroup": "Yes",
         "orientation": "v",
         "showlegend": true,
         "textposition": "auto",
         "type": "bar",
         "x": [
          "None",
          "less than 1 year",
          "between 1 year and 3 years",
          "more than 3 years"
         ],
         "xaxis": "x",
         "y": [
          5,
          4,
          11,
          1
         ],
         "yaxis": "y"
        }
       ],
       "layout": {
        "barmode": "group",
        "legend": {
         "title": {
          "text": "Group"
         },
         "tracegroupgap": 0
        },
        "template": {
         "data": {
          "bar": [
           {
            "error_x": {
             "color": "#2a3f5f"
            },
            "error_y": {
             "color": "#2a3f5f"
            },
            "marker": {
             "line": {
              "color": "#E5ECF6",
              "width": 0.5
             },
             "pattern": {
              "fillmode": "overlay",
              "size": 10,
              "solidity": 0.2
             }
            },
            "type": "bar"
           }
          ],
          "barpolar": [
           {
            "marker": {
             "line": {
              "color": "#E5ECF6",
              "width": 0.5
             },
             "pattern": {
              "fillmode": "overlay",
              "size": 10,
              "solidity": 0.2
             }
            },
            "type": "barpolar"
           }
          ],
          "carpet": [
           {
            "aaxis": {
             "endlinecolor": "#2a3f5f",
             "gridcolor": "white",
             "linecolor": "white",
             "minorgridcolor": "white",
             "startlinecolor": "#2a3f5f"
            },
            "baxis": {
             "endlinecolor": "#2a3f5f",
             "gridcolor": "white",
             "linecolor": "white",
             "minorgridcolor": "white",
             "startlinecolor": "#2a3f5f"
            },
            "type": "carpet"
           }
          ],
          "choropleth": [
           {
            "colorbar": {
             "outlinewidth": 0,
             "ticks": ""
            },
            "type": "choropleth"
           }
          ],
          "contour": [
           {
            "colorbar": {
             "outlinewidth": 0,
             "ticks": ""
            },
            "colorscale": [
             [
              0,
              "#0d0887"
             ],
             [
              0.1111111111111111,
              "#46039f"
             ],
             [
              0.2222222222222222,
              "#7201a8"
             ],
             [
              0.3333333333333333,
              "#9c179e"
             ],
             [
              0.4444444444444444,
              "#bd3786"
             ],
             [
              0.5555555555555556,
              "#d8576b"
             ],
             [
              0.6666666666666666,
              "#ed7953"
             ],
             [
              0.7777777777777778,
              "#fb9f3a"
             ],
             [
              0.8888888888888888,
              "#fdca26"
             ],
             [
              1,
              "#f0f921"
             ]
            ],
            "type": "contour"
           }
          ],
          "contourcarpet": [
           {
            "colorbar": {
             "outlinewidth": 0,
             "ticks": ""
            },
            "type": "contourcarpet"
           }
          ],
          "heatmap": [
           {
            "colorbar": {
             "outlinewidth": 0,
             "ticks": ""
            },
            "colorscale": [
             [
              0,
              "#0d0887"
             ],
             [
              0.1111111111111111,
              "#46039f"
             ],
             [
              0.2222222222222222,
              "#7201a8"
             ],
             [
              0.3333333333333333,
              "#9c179e"
             ],
             [
              0.4444444444444444,
              "#bd3786"
             ],
             [
              0.5555555555555556,
              "#d8576b"
             ],
             [
              0.6666666666666666,
              "#ed7953"
             ],
             [
              0.7777777777777778,
              "#fb9f3a"
             ],
             [
              0.8888888888888888,
              "#fdca26"
             ],
             [
              1,
              "#f0f921"
             ]
            ],
            "type": "heatmap"
           }
          ],
          "heatmapgl": [
           {
            "colorbar": {
             "outlinewidth": 0,
             "ticks": ""
            },
            "colorscale": [
             [
              0,
              "#0d0887"
             ],
             [
              0.1111111111111111,
              "#46039f"
             ],
             [
              0.2222222222222222,
              "#7201a8"
             ],
             [
              0.3333333333333333,
              "#9c179e"
             ],
             [
              0.4444444444444444,
              "#bd3786"
             ],
             [
              0.5555555555555556,
              "#d8576b"
             ],
             [
              0.6666666666666666,
              "#ed7953"
             ],
             [
              0.7777777777777778,
              "#fb9f3a"
             ],
             [
              0.8888888888888888,
              "#fdca26"
             ],
             [
              1,
              "#f0f921"
             ]
            ],
            "type": "heatmapgl"
           }
          ],
          "histogram": [
           {
            "marker": {
             "pattern": {
              "fillmode": "overlay",
              "size": 10,
              "solidity": 0.2
             }
            },
            "type": "histogram"
           }
          ],
          "histogram2d": [
           {
            "colorbar": {
             "outlinewidth": 0,
             "ticks": ""
            },
            "colorscale": [
             [
              0,
              "#0d0887"
             ],
             [
              0.1111111111111111,
              "#46039f"
             ],
             [
              0.2222222222222222,
              "#7201a8"
             ],
             [
              0.3333333333333333,
              "#9c179e"
             ],
             [
              0.4444444444444444,
              "#bd3786"
             ],
             [
              0.5555555555555556,
              "#d8576b"
             ],
             [
              0.6666666666666666,
              "#ed7953"
             ],
             [
              0.7777777777777778,
              "#fb9f3a"
             ],
             [
              0.8888888888888888,
              "#fdca26"
             ],
             [
              1,
              "#f0f921"
             ]
            ],
            "type": "histogram2d"
           }
          ],
          "histogram2dcontour": [
           {
            "colorbar": {
             "outlinewidth": 0,
             "ticks": ""
            },
            "colorscale": [
             [
              0,
              "#0d0887"
             ],
             [
              0.1111111111111111,
              "#46039f"
             ],
             [
              0.2222222222222222,
              "#7201a8"
             ],
             [
              0.3333333333333333,
              "#9c179e"
             ],
             [
              0.4444444444444444,
              "#bd3786"
             ],
             [
              0.5555555555555556,
              "#d8576b"
             ],
             [
              0.6666666666666666,
              "#ed7953"
             ],
             [
              0.7777777777777778,
              "#fb9f3a"
             ],
             [
              0.8888888888888888,
              "#fdca26"
             ],
             [
              1,
              "#f0f921"
             ]
            ],
            "type": "histogram2dcontour"
           }
          ],
          "mesh3d": [
           {
            "colorbar": {
             "outlinewidth": 0,
             "ticks": ""
            },
            "type": "mesh3d"
           }
          ],
          "parcoords": [
           {
            "line": {
             "colorbar": {
              "outlinewidth": 0,
              "ticks": ""
             }
            },
            "type": "parcoords"
           }
          ],
          "pie": [
           {
            "automargin": true,
            "type": "pie"
           }
          ],
          "scatter": [
           {
            "fillpattern": {
             "fillmode": "overlay",
             "size": 10,
             "solidity": 0.2
            },
            "type": "scatter"
           }
          ],
          "scatter3d": [
           {
            "line": {
             "colorbar": {
              "outlinewidth": 0,
              "ticks": ""
             }
            },
            "marker": {
             "colorbar": {
              "outlinewidth": 0,
              "ticks": ""
             }
            },
            "type": "scatter3d"
           }
          ],
          "scattercarpet": [
           {
            "marker": {
             "colorbar": {
              "outlinewidth": 0,
              "ticks": ""
             }
            },
            "type": "scattercarpet"
           }
          ],
          "scattergeo": [
           {
            "marker": {
             "colorbar": {
              "outlinewidth": 0,
              "ticks": ""
             }
            },
            "type": "scattergeo"
           }
          ],
          "scattergl": [
           {
            "marker": {
             "colorbar": {
              "outlinewidth": 0,
              "ticks": ""
             }
            },
            "type": "scattergl"
           }
          ],
          "scattermapbox": [
           {
            "marker": {
             "colorbar": {
              "outlinewidth": 0,
              "ticks": ""
             }
            },
            "type": "scattermapbox"
           }
          ],
          "scatterpolar": [
           {
            "marker": {
             "colorbar": {
              "outlinewidth": 0,
              "ticks": ""
             }
            },
            "type": "scatterpolar"
           }
          ],
          "scatterpolargl": [
           {
            "marker": {
             "colorbar": {
              "outlinewidth": 0,
              "ticks": ""
             }
            },
            "type": "scatterpolargl"
           }
          ],
          "scatterternary": [
           {
            "marker": {
             "colorbar": {
              "outlinewidth": 0,
              "ticks": ""
             }
            },
            "type": "scatterternary"
           }
          ],
          "surface": [
           {
            "colorbar": {
             "outlinewidth": 0,
             "ticks": ""
            },
            "colorscale": [
             [
              0,
              "#0d0887"
             ],
             [
              0.1111111111111111,
              "#46039f"
             ],
             [
              0.2222222222222222,
              "#7201a8"
             ],
             [
              0.3333333333333333,
              "#9c179e"
             ],
             [
              0.4444444444444444,
              "#bd3786"
             ],
             [
              0.5555555555555556,
              "#d8576b"
             ],
             [
              0.6666666666666666,
              "#ed7953"
             ],
             [
              0.7777777777777778,
              "#fb9f3a"
             ],
             [
              0.8888888888888888,
              "#fdca26"
             ],
             [
              1,
              "#f0f921"
             ]
            ],
            "type": "surface"
           }
          ],
          "table": [
           {
            "cells": {
             "fill": {
              "color": "#EBF0F8"
             },
             "line": {
              "color": "white"
             }
            },
            "header": {
             "fill": {
              "color": "#C8D4E3"
             },
             "line": {
              "color": "white"
             }
            },
            "type": "table"
           }
          ]
         },
         "layout": {
          "annotationdefaults": {
           "arrowcolor": "#2a3f5f",
           "arrowhead": 0,
           "arrowwidth": 1
          },
          "autotypenumbers": "strict",
          "coloraxis": {
           "colorbar": {
            "outlinewidth": 0,
            "ticks": ""
           }
          },
          "colorscale": {
           "diverging": [
            [
             0,
             "#8e0152"
            ],
            [
             0.1,
             "#c51b7d"
            ],
            [
             0.2,
             "#de77ae"
            ],
            [
             0.3,
             "#f1b6da"
            ],
            [
             0.4,
             "#fde0ef"
            ],
            [
             0.5,
             "#f7f7f7"
            ],
            [
             0.6,
             "#e6f5d0"
            ],
            [
             0.7,
             "#b8e186"
            ],
            [
             0.8,
             "#7fbc41"
            ],
            [
             0.9,
             "#4d9221"
            ],
            [
             1,
             "#276419"
            ]
           ],
           "sequential": [
            [
             0,
             "#0d0887"
            ],
            [
             0.1111111111111111,
             "#46039f"
            ],
            [
             0.2222222222222222,
             "#7201a8"
            ],
            [
             0.3333333333333333,
             "#9c179e"
            ],
            [
             0.4444444444444444,
             "#bd3786"
            ],
            [
             0.5555555555555556,
             "#d8576b"
            ],
            [
             0.6666666666666666,
             "#ed7953"
            ],
            [
             0.7777777777777778,
             "#fb9f3a"
            ],
            [
             0.8888888888888888,
             "#fdca26"
            ],
            [
             1,
             "#f0f921"
            ]
           ],
           "sequentialminus": [
            [
             0,
             "#0d0887"
            ],
            [
             0.1111111111111111,
             "#46039f"
            ],
            [
             0.2222222222222222,
             "#7201a8"
            ],
            [
             0.3333333333333333,
             "#9c179e"
            ],
            [
             0.4444444444444444,
             "#bd3786"
            ],
            [
             0.5555555555555556,
             "#d8576b"
            ],
            [
             0.6666666666666666,
             "#ed7953"
            ],
            [
             0.7777777777777778,
             "#fb9f3a"
            ],
            [
             0.8888888888888888,
             "#fdca26"
            ],
            [
             1,
             "#f0f921"
            ]
           ]
          },
          "colorway": [
           "#636efa",
           "#EF553B",
           "#00cc96",
           "#ab63fa",
           "#FFA15A",
           "#19d3f3",
           "#FF6692",
           "#B6E880",
           "#FF97FF",
           "#FECB52"
          ],
          "font": {
           "color": "#2a3f5f"
          },
          "geo": {
           "bgcolor": "white",
           "lakecolor": "white",
           "landcolor": "#E5ECF6",
           "showlakes": true,
           "showland": true,
           "subunitcolor": "white"
          },
          "hoverlabel": {
           "align": "left"
          },
          "hovermode": "closest",
          "mapbox": {
           "style": "light"
          },
          "paper_bgcolor": "white",
          "plot_bgcolor": "#E5ECF6",
          "polar": {
           "angularaxis": {
            "gridcolor": "white",
            "linecolor": "white",
            "ticks": ""
           },
           "bgcolor": "#E5ECF6",
           "radialaxis": {
            "gridcolor": "white",
            "linecolor": "white",
            "ticks": ""
           }
          },
          "scene": {
           "xaxis": {
            "backgroundcolor": "#E5ECF6",
            "gridcolor": "white",
            "gridwidth": 2,
            "linecolor": "white",
            "showbackground": true,
            "ticks": "",
            "zerolinecolor": "white"
           },
           "yaxis": {
            "backgroundcolor": "#E5ECF6",
            "gridcolor": "white",
            "gridwidth": 2,
            "linecolor": "white",
            "showbackground": true,
            "ticks": "",
            "zerolinecolor": "white"
           },
           "zaxis": {
            "backgroundcolor": "#E5ECF6",
            "gridcolor": "white",
            "gridwidth": 2,
            "linecolor": "white",
            "showbackground": true,
            "ticks": "",
            "zerolinecolor": "white"
           }
          },
          "shapedefaults": {
           "line": {
            "color": "#2a3f5f"
           }
          },
          "ternary": {
           "aaxis": {
            "gridcolor": "white",
            "linecolor": "white",
            "ticks": ""
           },
           "baxis": {
            "gridcolor": "white",
            "linecolor": "white",
            "ticks": ""
           },
           "bgcolor": "#E5ECF6",
           "caxis": {
            "gridcolor": "white",
            "linecolor": "white",
            "ticks": ""
           }
          },
          "title": {
           "x": 0.05
          },
          "xaxis": {
           "automargin": true,
           "gridcolor": "white",
           "linecolor": "white",
           "ticks": "",
           "title": {
            "standoff": 15
           },
           "zerolinecolor": "white",
           "zerolinewidth": 2
          },
          "yaxis": {
           "automargin": true,
           "gridcolor": "white",
           "linecolor": "white",
           "ticks": "",
           "title": {
            "standoff": 15
           },
           "zerolinecolor": "white",
           "zerolinewidth": 2
          }
         }
        },
        "title": {
         "text": "Distribution of Work exp by Group"
        },
        "xaxis": {
         "anchor": "y",
         "domain": [
          0,
          1
         ],
         "title": {
          "text": "Work_exprience_employee"
         }
        },
        "yaxis": {
         "anchor": "x",
         "domain": [
          0,
          1
         ],
         "title": {
          "text": "Count"
         }
        }
       }
      }
     },
     "metadata": {},
     "output_type": "display_data"
    }
   ],
   "source": [
    "data = {'Work_exprience_employee': ['None', 'less than 1 year', 'between 1 year and 3 years', 'more than 3 years'],\n",
    "        'Not yet': [11, 3, 2, 2],\n",
    "        'Yes': [5, 4, 11, 1]}\n",
    "df = pd.DataFrame(data)\n",
    "\n",
    "# Melt the DataFrame to transform it to a long format\n",
    "df_melted = pd.melt(df, id_vars=['Work_exprience_employee'], var_name='Group', value_name='Count')\n",
    "\n",
    "# Create a pie chart using Plotly Express\n",
    "fig = px.bar(df_melted, x='Work_exprience_employee', y='Count', color='Group', barmode='group',\n",
    "             title='Distribution of Work exp by Group')\n",
    "\n",
    "# Show the plot\n",
    "fig.show()"
   ]
  },
  {
   "cell_type": "code",
   "execution_count": 22,
   "metadata": {},
   "outputs": [
    {
     "data": {
      "application/vnd.plotly.v1+json": {
       "config": {
        "plotlyServerURL": "https://plot.ly"
       },
       "data": [
        {
         "alignmentgroup": "True",
         "hovertemplate": "Group=Not yet<br>education=%{x}<br>Count=%{y}<extra></extra>",
         "legendgroup": "Not yet",
         "marker": {
          "color": "#636efa",
          "pattern": {
           "shape": ""
          }
         },
         "name": "Not yet",
         "offsetgroup": "Not yet",
         "orientation": "v",
         "showlegend": true,
         "textposition": "auto",
         "type": "bar",
         "x": [
          "Bachelors degree",
          "Doctorate or professional degree",
          "High school diploma or equivalent",
          "Masters degree",
          "Some college or associates degree"
         ],
         "xaxis": "x",
         "y": [
          11,
          1,
          0,
          3,
          3
         ],
         "yaxis": "y"
        },
        {
         "alignmentgroup": "True",
         "hovertemplate": "Group=Yes<br>education=%{x}<br>Count=%{y}<extra></extra>",
         "legendgroup": "Yes",
         "marker": {
          "color": "#EF553B",
          "pattern": {
           "shape": ""
          }
         },
         "name": "Yes",
         "offsetgroup": "Yes",
         "orientation": "v",
         "showlegend": true,
         "textposition": "auto",
         "type": "bar",
         "x": [
          "Bachelors degree",
          "Doctorate or professional degree",
          "High school diploma or equivalent",
          "Masters degree",
          "Some college or associates degree"
         ],
         "xaxis": "x",
         "y": [
          14,
          0,
          1,
          5,
          1
         ],
         "yaxis": "y"
        }
       ],
       "layout": {
        "barmode": "group",
        "legend": {
         "title": {
          "text": "Group"
         },
         "tracegroupgap": 0
        },
        "template": {
         "data": {
          "bar": [
           {
            "error_x": {
             "color": "#2a3f5f"
            },
            "error_y": {
             "color": "#2a3f5f"
            },
            "marker": {
             "line": {
              "color": "#E5ECF6",
              "width": 0.5
             },
             "pattern": {
              "fillmode": "overlay",
              "size": 10,
              "solidity": 0.2
             }
            },
            "type": "bar"
           }
          ],
          "barpolar": [
           {
            "marker": {
             "line": {
              "color": "#E5ECF6",
              "width": 0.5
             },
             "pattern": {
              "fillmode": "overlay",
              "size": 10,
              "solidity": 0.2
             }
            },
            "type": "barpolar"
           }
          ],
          "carpet": [
           {
            "aaxis": {
             "endlinecolor": "#2a3f5f",
             "gridcolor": "white",
             "linecolor": "white",
             "minorgridcolor": "white",
             "startlinecolor": "#2a3f5f"
            },
            "baxis": {
             "endlinecolor": "#2a3f5f",
             "gridcolor": "white",
             "linecolor": "white",
             "minorgridcolor": "white",
             "startlinecolor": "#2a3f5f"
            },
            "type": "carpet"
           }
          ],
          "choropleth": [
           {
            "colorbar": {
             "outlinewidth": 0,
             "ticks": ""
            },
            "type": "choropleth"
           }
          ],
          "contour": [
           {
            "colorbar": {
             "outlinewidth": 0,
             "ticks": ""
            },
            "colorscale": [
             [
              0,
              "#0d0887"
             ],
             [
              0.1111111111111111,
              "#46039f"
             ],
             [
              0.2222222222222222,
              "#7201a8"
             ],
             [
              0.3333333333333333,
              "#9c179e"
             ],
             [
              0.4444444444444444,
              "#bd3786"
             ],
             [
              0.5555555555555556,
              "#d8576b"
             ],
             [
              0.6666666666666666,
              "#ed7953"
             ],
             [
              0.7777777777777778,
              "#fb9f3a"
             ],
             [
              0.8888888888888888,
              "#fdca26"
             ],
             [
              1,
              "#f0f921"
             ]
            ],
            "type": "contour"
           }
          ],
          "contourcarpet": [
           {
            "colorbar": {
             "outlinewidth": 0,
             "ticks": ""
            },
            "type": "contourcarpet"
           }
          ],
          "heatmap": [
           {
            "colorbar": {
             "outlinewidth": 0,
             "ticks": ""
            },
            "colorscale": [
             [
              0,
              "#0d0887"
             ],
             [
              0.1111111111111111,
              "#46039f"
             ],
             [
              0.2222222222222222,
              "#7201a8"
             ],
             [
              0.3333333333333333,
              "#9c179e"
             ],
             [
              0.4444444444444444,
              "#bd3786"
             ],
             [
              0.5555555555555556,
              "#d8576b"
             ],
             [
              0.6666666666666666,
              "#ed7953"
             ],
             [
              0.7777777777777778,
              "#fb9f3a"
             ],
             [
              0.8888888888888888,
              "#fdca26"
             ],
             [
              1,
              "#f0f921"
             ]
            ],
            "type": "heatmap"
           }
          ],
          "heatmapgl": [
           {
            "colorbar": {
             "outlinewidth": 0,
             "ticks": ""
            },
            "colorscale": [
             [
              0,
              "#0d0887"
             ],
             [
              0.1111111111111111,
              "#46039f"
             ],
             [
              0.2222222222222222,
              "#7201a8"
             ],
             [
              0.3333333333333333,
              "#9c179e"
             ],
             [
              0.4444444444444444,
              "#bd3786"
             ],
             [
              0.5555555555555556,
              "#d8576b"
             ],
             [
              0.6666666666666666,
              "#ed7953"
             ],
             [
              0.7777777777777778,
              "#fb9f3a"
             ],
             [
              0.8888888888888888,
              "#fdca26"
             ],
             [
              1,
              "#f0f921"
             ]
            ],
            "type": "heatmapgl"
           }
          ],
          "histogram": [
           {
            "marker": {
             "pattern": {
              "fillmode": "overlay",
              "size": 10,
              "solidity": 0.2
             }
            },
            "type": "histogram"
           }
          ],
          "histogram2d": [
           {
            "colorbar": {
             "outlinewidth": 0,
             "ticks": ""
            },
            "colorscale": [
             [
              0,
              "#0d0887"
             ],
             [
              0.1111111111111111,
              "#46039f"
             ],
             [
              0.2222222222222222,
              "#7201a8"
             ],
             [
              0.3333333333333333,
              "#9c179e"
             ],
             [
              0.4444444444444444,
              "#bd3786"
             ],
             [
              0.5555555555555556,
              "#d8576b"
             ],
             [
              0.6666666666666666,
              "#ed7953"
             ],
             [
              0.7777777777777778,
              "#fb9f3a"
             ],
             [
              0.8888888888888888,
              "#fdca26"
             ],
             [
              1,
              "#f0f921"
             ]
            ],
            "type": "histogram2d"
           }
          ],
          "histogram2dcontour": [
           {
            "colorbar": {
             "outlinewidth": 0,
             "ticks": ""
            },
            "colorscale": [
             [
              0,
              "#0d0887"
             ],
             [
              0.1111111111111111,
              "#46039f"
             ],
             [
              0.2222222222222222,
              "#7201a8"
             ],
             [
              0.3333333333333333,
              "#9c179e"
             ],
             [
              0.4444444444444444,
              "#bd3786"
             ],
             [
              0.5555555555555556,
              "#d8576b"
             ],
             [
              0.6666666666666666,
              "#ed7953"
             ],
             [
              0.7777777777777778,
              "#fb9f3a"
             ],
             [
              0.8888888888888888,
              "#fdca26"
             ],
             [
              1,
              "#f0f921"
             ]
            ],
            "type": "histogram2dcontour"
           }
          ],
          "mesh3d": [
           {
            "colorbar": {
             "outlinewidth": 0,
             "ticks": ""
            },
            "type": "mesh3d"
           }
          ],
          "parcoords": [
           {
            "line": {
             "colorbar": {
              "outlinewidth": 0,
              "ticks": ""
             }
            },
            "type": "parcoords"
           }
          ],
          "pie": [
           {
            "automargin": true,
            "type": "pie"
           }
          ],
          "scatter": [
           {
            "fillpattern": {
             "fillmode": "overlay",
             "size": 10,
             "solidity": 0.2
            },
            "type": "scatter"
           }
          ],
          "scatter3d": [
           {
            "line": {
             "colorbar": {
              "outlinewidth": 0,
              "ticks": ""
             }
            },
            "marker": {
             "colorbar": {
              "outlinewidth": 0,
              "ticks": ""
             }
            },
            "type": "scatter3d"
           }
          ],
          "scattercarpet": [
           {
            "marker": {
             "colorbar": {
              "outlinewidth": 0,
              "ticks": ""
             }
            },
            "type": "scattercarpet"
           }
          ],
          "scattergeo": [
           {
            "marker": {
             "colorbar": {
              "outlinewidth": 0,
              "ticks": ""
             }
            },
            "type": "scattergeo"
           }
          ],
          "scattergl": [
           {
            "marker": {
             "colorbar": {
              "outlinewidth": 0,
              "ticks": ""
             }
            },
            "type": "scattergl"
           }
          ],
          "scattermapbox": [
           {
            "marker": {
             "colorbar": {
              "outlinewidth": 0,
              "ticks": ""
             }
            },
            "type": "scattermapbox"
           }
          ],
          "scatterpolar": [
           {
            "marker": {
             "colorbar": {
              "outlinewidth": 0,
              "ticks": ""
             }
            },
            "type": "scatterpolar"
           }
          ],
          "scatterpolargl": [
           {
            "marker": {
             "colorbar": {
              "outlinewidth": 0,
              "ticks": ""
             }
            },
            "type": "scatterpolargl"
           }
          ],
          "scatterternary": [
           {
            "marker": {
             "colorbar": {
              "outlinewidth": 0,
              "ticks": ""
             }
            },
            "type": "scatterternary"
           }
          ],
          "surface": [
           {
            "colorbar": {
             "outlinewidth": 0,
             "ticks": ""
            },
            "colorscale": [
             [
              0,
              "#0d0887"
             ],
             [
              0.1111111111111111,
              "#46039f"
             ],
             [
              0.2222222222222222,
              "#7201a8"
             ],
             [
              0.3333333333333333,
              "#9c179e"
             ],
             [
              0.4444444444444444,
              "#bd3786"
             ],
             [
              0.5555555555555556,
              "#d8576b"
             ],
             [
              0.6666666666666666,
              "#ed7953"
             ],
             [
              0.7777777777777778,
              "#fb9f3a"
             ],
             [
              0.8888888888888888,
              "#fdca26"
             ],
             [
              1,
              "#f0f921"
             ]
            ],
            "type": "surface"
           }
          ],
          "table": [
           {
            "cells": {
             "fill": {
              "color": "#EBF0F8"
             },
             "line": {
              "color": "white"
             }
            },
            "header": {
             "fill": {
              "color": "#C8D4E3"
             },
             "line": {
              "color": "white"
             }
            },
            "type": "table"
           }
          ]
         },
         "layout": {
          "annotationdefaults": {
           "arrowcolor": "#2a3f5f",
           "arrowhead": 0,
           "arrowwidth": 1
          },
          "autotypenumbers": "strict",
          "coloraxis": {
           "colorbar": {
            "outlinewidth": 0,
            "ticks": ""
           }
          },
          "colorscale": {
           "diverging": [
            [
             0,
             "#8e0152"
            ],
            [
             0.1,
             "#c51b7d"
            ],
            [
             0.2,
             "#de77ae"
            ],
            [
             0.3,
             "#f1b6da"
            ],
            [
             0.4,
             "#fde0ef"
            ],
            [
             0.5,
             "#f7f7f7"
            ],
            [
             0.6,
             "#e6f5d0"
            ],
            [
             0.7,
             "#b8e186"
            ],
            [
             0.8,
             "#7fbc41"
            ],
            [
             0.9,
             "#4d9221"
            ],
            [
             1,
             "#276419"
            ]
           ],
           "sequential": [
            [
             0,
             "#0d0887"
            ],
            [
             0.1111111111111111,
             "#46039f"
            ],
            [
             0.2222222222222222,
             "#7201a8"
            ],
            [
             0.3333333333333333,
             "#9c179e"
            ],
            [
             0.4444444444444444,
             "#bd3786"
            ],
            [
             0.5555555555555556,
             "#d8576b"
            ],
            [
             0.6666666666666666,
             "#ed7953"
            ],
            [
             0.7777777777777778,
             "#fb9f3a"
            ],
            [
             0.8888888888888888,
             "#fdca26"
            ],
            [
             1,
             "#f0f921"
            ]
           ],
           "sequentialminus": [
            [
             0,
             "#0d0887"
            ],
            [
             0.1111111111111111,
             "#46039f"
            ],
            [
             0.2222222222222222,
             "#7201a8"
            ],
            [
             0.3333333333333333,
             "#9c179e"
            ],
            [
             0.4444444444444444,
             "#bd3786"
            ],
            [
             0.5555555555555556,
             "#d8576b"
            ],
            [
             0.6666666666666666,
             "#ed7953"
            ],
            [
             0.7777777777777778,
             "#fb9f3a"
            ],
            [
             0.8888888888888888,
             "#fdca26"
            ],
            [
             1,
             "#f0f921"
            ]
           ]
          },
          "colorway": [
           "#636efa",
           "#EF553B",
           "#00cc96",
           "#ab63fa",
           "#FFA15A",
           "#19d3f3",
           "#FF6692",
           "#B6E880",
           "#FF97FF",
           "#FECB52"
          ],
          "font": {
           "color": "#2a3f5f"
          },
          "geo": {
           "bgcolor": "white",
           "lakecolor": "white",
           "landcolor": "#E5ECF6",
           "showlakes": true,
           "showland": true,
           "subunitcolor": "white"
          },
          "hoverlabel": {
           "align": "left"
          },
          "hovermode": "closest",
          "mapbox": {
           "style": "light"
          },
          "paper_bgcolor": "white",
          "plot_bgcolor": "#E5ECF6",
          "polar": {
           "angularaxis": {
            "gridcolor": "white",
            "linecolor": "white",
            "ticks": ""
           },
           "bgcolor": "#E5ECF6",
           "radialaxis": {
            "gridcolor": "white",
            "linecolor": "white",
            "ticks": ""
           }
          },
          "scene": {
           "xaxis": {
            "backgroundcolor": "#E5ECF6",
            "gridcolor": "white",
            "gridwidth": 2,
            "linecolor": "white",
            "showbackground": true,
            "ticks": "",
            "zerolinecolor": "white"
           },
           "yaxis": {
            "backgroundcolor": "#E5ECF6",
            "gridcolor": "white",
            "gridwidth": 2,
            "linecolor": "white",
            "showbackground": true,
            "ticks": "",
            "zerolinecolor": "white"
           },
           "zaxis": {
            "backgroundcolor": "#E5ECF6",
            "gridcolor": "white",
            "gridwidth": 2,
            "linecolor": "white",
            "showbackground": true,
            "ticks": "",
            "zerolinecolor": "white"
           }
          },
          "shapedefaults": {
           "line": {
            "color": "#2a3f5f"
           }
          },
          "ternary": {
           "aaxis": {
            "gridcolor": "white",
            "linecolor": "white",
            "ticks": ""
           },
           "baxis": {
            "gridcolor": "white",
            "linecolor": "white",
            "ticks": ""
           },
           "bgcolor": "#E5ECF6",
           "caxis": {
            "gridcolor": "white",
            "linecolor": "white",
            "ticks": ""
           }
          },
          "title": {
           "x": 0.05
          },
          "xaxis": {
           "automargin": true,
           "gridcolor": "white",
           "linecolor": "white",
           "ticks": "",
           "title": {
            "standoff": 15
           },
           "zerolinecolor": "white",
           "zerolinewidth": 2
          },
          "yaxis": {
           "automargin": true,
           "gridcolor": "white",
           "linecolor": "white",
           "ticks": "",
           "title": {
            "standoff": 15
           },
           "zerolinecolor": "white",
           "zerolinewidth": 2
          }
         }
        },
        "title": {
         "text": "Education by Group"
        },
        "xaxis": {
         "anchor": "y",
         "domain": [
          0,
          1
         ],
         "title": {
          "text": "education"
         }
        },
        "yaxis": {
         "anchor": "x",
         "domain": [
          0,
          1
         ],
         "title": {
          "text": "Count"
         }
        }
       }
      }
     },
     "metadata": {},
     "output_type": "display_data"
    }
   ],
   "source": [
    "data = {'education': ['Bachelors degree','Doctorate or professional degree','High school diploma or equivalent','Masters degree','Some college or associates degree'],\n",
    "        'Not yet': [11, 1, 0, 3, 3],\n",
    "        'Yes': [14, 0, 1,5, 1]}\n",
    "df = pd.DataFrame(data)\n",
    "\n",
    "# Melt the DataFrame to transform it to a long format\n",
    "df_melted = pd.melt(df, id_vars=['education'], var_name='Group', value_name='Count')\n",
    "\n",
    "# Create a pie chart using Plotly Express\n",
    "fig = px.bar(df_melted, x='education', y='Count', color='Group', barmode='group',\n",
    "             title='Education by Group')\n",
    "\n",
    "# Show the plot\n",
    "fig.show()"
   ]
  },
  {
   "cell_type": "code",
   "execution_count": 21,
   "metadata": {},
   "outputs": [
    {
     "data": {
      "application/vnd.plotly.v1+json": {
       "config": {
        "plotlyServerURL": "https://plot.ly"
       },
       "data": [
        {
         "alignmentgroup": "True",
         "hovertemplate": "Group=Not yet<br>local_language=%{x}<br>Count=%{y}<extra></extra>",
         "legendgroup": "Not yet",
         "marker": {
          "color": "#636efa",
          "pattern": {
           "shape": ""
          }
         },
         "name": "Not yet",
         "offsetgroup": "Not yet",
         "orientation": "v",
         "showlegend": true,
         "textposition": "auto",
         "type": "bar",
         "x": [
          "False",
          "True"
         ],
         "xaxis": "x",
         "y": [
          8,
          10
         ],
         "yaxis": "y"
        },
        {
         "alignmentgroup": "True",
         "hovertemplate": "Group=Yes<br>local_language=%{x}<br>Count=%{y}<extra></extra>",
         "legendgroup": "Yes",
         "marker": {
          "color": "#EF553B",
          "pattern": {
           "shape": ""
          }
         },
         "name": "Yes",
         "offsetgroup": "Yes",
         "orientation": "v",
         "showlegend": true,
         "textposition": "auto",
         "type": "bar",
         "x": [
          "False",
          "True"
         ],
         "xaxis": "x",
         "y": [
          7,
          14
         ],
         "yaxis": "y"
        }
       ],
       "layout": {
        "barmode": "group",
        "legend": {
         "title": {
          "text": "Group"
         },
         "tracegroupgap": 0
        },
        "template": {
         "data": {
          "bar": [
           {
            "error_x": {
             "color": "#2a3f5f"
            },
            "error_y": {
             "color": "#2a3f5f"
            },
            "marker": {
             "line": {
              "color": "#E5ECF6",
              "width": 0.5
             },
             "pattern": {
              "fillmode": "overlay",
              "size": 10,
              "solidity": 0.2
             }
            },
            "type": "bar"
           }
          ],
          "barpolar": [
           {
            "marker": {
             "line": {
              "color": "#E5ECF6",
              "width": 0.5
             },
             "pattern": {
              "fillmode": "overlay",
              "size": 10,
              "solidity": 0.2
             }
            },
            "type": "barpolar"
           }
          ],
          "carpet": [
           {
            "aaxis": {
             "endlinecolor": "#2a3f5f",
             "gridcolor": "white",
             "linecolor": "white",
             "minorgridcolor": "white",
             "startlinecolor": "#2a3f5f"
            },
            "baxis": {
             "endlinecolor": "#2a3f5f",
             "gridcolor": "white",
             "linecolor": "white",
             "minorgridcolor": "white",
             "startlinecolor": "#2a3f5f"
            },
            "type": "carpet"
           }
          ],
          "choropleth": [
           {
            "colorbar": {
             "outlinewidth": 0,
             "ticks": ""
            },
            "type": "choropleth"
           }
          ],
          "contour": [
           {
            "colorbar": {
             "outlinewidth": 0,
             "ticks": ""
            },
            "colorscale": [
             [
              0,
              "#0d0887"
             ],
             [
              0.1111111111111111,
              "#46039f"
             ],
             [
              0.2222222222222222,
              "#7201a8"
             ],
             [
              0.3333333333333333,
              "#9c179e"
             ],
             [
              0.4444444444444444,
              "#bd3786"
             ],
             [
              0.5555555555555556,
              "#d8576b"
             ],
             [
              0.6666666666666666,
              "#ed7953"
             ],
             [
              0.7777777777777778,
              "#fb9f3a"
             ],
             [
              0.8888888888888888,
              "#fdca26"
             ],
             [
              1,
              "#f0f921"
             ]
            ],
            "type": "contour"
           }
          ],
          "contourcarpet": [
           {
            "colorbar": {
             "outlinewidth": 0,
             "ticks": ""
            },
            "type": "contourcarpet"
           }
          ],
          "heatmap": [
           {
            "colorbar": {
             "outlinewidth": 0,
             "ticks": ""
            },
            "colorscale": [
             [
              0,
              "#0d0887"
             ],
             [
              0.1111111111111111,
              "#46039f"
             ],
             [
              0.2222222222222222,
              "#7201a8"
             ],
             [
              0.3333333333333333,
              "#9c179e"
             ],
             [
              0.4444444444444444,
              "#bd3786"
             ],
             [
              0.5555555555555556,
              "#d8576b"
             ],
             [
              0.6666666666666666,
              "#ed7953"
             ],
             [
              0.7777777777777778,
              "#fb9f3a"
             ],
             [
              0.8888888888888888,
              "#fdca26"
             ],
             [
              1,
              "#f0f921"
             ]
            ],
            "type": "heatmap"
           }
          ],
          "heatmapgl": [
           {
            "colorbar": {
             "outlinewidth": 0,
             "ticks": ""
            },
            "colorscale": [
             [
              0,
              "#0d0887"
             ],
             [
              0.1111111111111111,
              "#46039f"
             ],
             [
              0.2222222222222222,
              "#7201a8"
             ],
             [
              0.3333333333333333,
              "#9c179e"
             ],
             [
              0.4444444444444444,
              "#bd3786"
             ],
             [
              0.5555555555555556,
              "#d8576b"
             ],
             [
              0.6666666666666666,
              "#ed7953"
             ],
             [
              0.7777777777777778,
              "#fb9f3a"
             ],
             [
              0.8888888888888888,
              "#fdca26"
             ],
             [
              1,
              "#f0f921"
             ]
            ],
            "type": "heatmapgl"
           }
          ],
          "histogram": [
           {
            "marker": {
             "pattern": {
              "fillmode": "overlay",
              "size": 10,
              "solidity": 0.2
             }
            },
            "type": "histogram"
           }
          ],
          "histogram2d": [
           {
            "colorbar": {
             "outlinewidth": 0,
             "ticks": ""
            },
            "colorscale": [
             [
              0,
              "#0d0887"
             ],
             [
              0.1111111111111111,
              "#46039f"
             ],
             [
              0.2222222222222222,
              "#7201a8"
             ],
             [
              0.3333333333333333,
              "#9c179e"
             ],
             [
              0.4444444444444444,
              "#bd3786"
             ],
             [
              0.5555555555555556,
              "#d8576b"
             ],
             [
              0.6666666666666666,
              "#ed7953"
             ],
             [
              0.7777777777777778,
              "#fb9f3a"
             ],
             [
              0.8888888888888888,
              "#fdca26"
             ],
             [
              1,
              "#f0f921"
             ]
            ],
            "type": "histogram2d"
           }
          ],
          "histogram2dcontour": [
           {
            "colorbar": {
             "outlinewidth": 0,
             "ticks": ""
            },
            "colorscale": [
             [
              0,
              "#0d0887"
             ],
             [
              0.1111111111111111,
              "#46039f"
             ],
             [
              0.2222222222222222,
              "#7201a8"
             ],
             [
              0.3333333333333333,
              "#9c179e"
             ],
             [
              0.4444444444444444,
              "#bd3786"
             ],
             [
              0.5555555555555556,
              "#d8576b"
             ],
             [
              0.6666666666666666,
              "#ed7953"
             ],
             [
              0.7777777777777778,
              "#fb9f3a"
             ],
             [
              0.8888888888888888,
              "#fdca26"
             ],
             [
              1,
              "#f0f921"
             ]
            ],
            "type": "histogram2dcontour"
           }
          ],
          "mesh3d": [
           {
            "colorbar": {
             "outlinewidth": 0,
             "ticks": ""
            },
            "type": "mesh3d"
           }
          ],
          "parcoords": [
           {
            "line": {
             "colorbar": {
              "outlinewidth": 0,
              "ticks": ""
             }
            },
            "type": "parcoords"
           }
          ],
          "pie": [
           {
            "automargin": true,
            "type": "pie"
           }
          ],
          "scatter": [
           {
            "fillpattern": {
             "fillmode": "overlay",
             "size": 10,
             "solidity": 0.2
            },
            "type": "scatter"
           }
          ],
          "scatter3d": [
           {
            "line": {
             "colorbar": {
              "outlinewidth": 0,
              "ticks": ""
             }
            },
            "marker": {
             "colorbar": {
              "outlinewidth": 0,
              "ticks": ""
             }
            },
            "type": "scatter3d"
           }
          ],
          "scattercarpet": [
           {
            "marker": {
             "colorbar": {
              "outlinewidth": 0,
              "ticks": ""
             }
            },
            "type": "scattercarpet"
           }
          ],
          "scattergeo": [
           {
            "marker": {
             "colorbar": {
              "outlinewidth": 0,
              "ticks": ""
             }
            },
            "type": "scattergeo"
           }
          ],
          "scattergl": [
           {
            "marker": {
             "colorbar": {
              "outlinewidth": 0,
              "ticks": ""
             }
            },
            "type": "scattergl"
           }
          ],
          "scattermapbox": [
           {
            "marker": {
             "colorbar": {
              "outlinewidth": 0,
              "ticks": ""
             }
            },
            "type": "scattermapbox"
           }
          ],
          "scatterpolar": [
           {
            "marker": {
             "colorbar": {
              "outlinewidth": 0,
              "ticks": ""
             }
            },
            "type": "scatterpolar"
           }
          ],
          "scatterpolargl": [
           {
            "marker": {
             "colorbar": {
              "outlinewidth": 0,
              "ticks": ""
             }
            },
            "type": "scatterpolargl"
           }
          ],
          "scatterternary": [
           {
            "marker": {
             "colorbar": {
              "outlinewidth": 0,
              "ticks": ""
             }
            },
            "type": "scatterternary"
           }
          ],
          "surface": [
           {
            "colorbar": {
             "outlinewidth": 0,
             "ticks": ""
            },
            "colorscale": [
             [
              0,
              "#0d0887"
             ],
             [
              0.1111111111111111,
              "#46039f"
             ],
             [
              0.2222222222222222,
              "#7201a8"
             ],
             [
              0.3333333333333333,
              "#9c179e"
             ],
             [
              0.4444444444444444,
              "#bd3786"
             ],
             [
              0.5555555555555556,
              "#d8576b"
             ],
             [
              0.6666666666666666,
              "#ed7953"
             ],
             [
              0.7777777777777778,
              "#fb9f3a"
             ],
             [
              0.8888888888888888,
              "#fdca26"
             ],
             [
              1,
              "#f0f921"
             ]
            ],
            "type": "surface"
           }
          ],
          "table": [
           {
            "cells": {
             "fill": {
              "color": "#EBF0F8"
             },
             "line": {
              "color": "white"
             }
            },
            "header": {
             "fill": {
              "color": "#C8D4E3"
             },
             "line": {
              "color": "white"
             }
            },
            "type": "table"
           }
          ]
         },
         "layout": {
          "annotationdefaults": {
           "arrowcolor": "#2a3f5f",
           "arrowhead": 0,
           "arrowwidth": 1
          },
          "autotypenumbers": "strict",
          "coloraxis": {
           "colorbar": {
            "outlinewidth": 0,
            "ticks": ""
           }
          },
          "colorscale": {
           "diverging": [
            [
             0,
             "#8e0152"
            ],
            [
             0.1,
             "#c51b7d"
            ],
            [
             0.2,
             "#de77ae"
            ],
            [
             0.3,
             "#f1b6da"
            ],
            [
             0.4,
             "#fde0ef"
            ],
            [
             0.5,
             "#f7f7f7"
            ],
            [
             0.6,
             "#e6f5d0"
            ],
            [
             0.7,
             "#b8e186"
            ],
            [
             0.8,
             "#7fbc41"
            ],
            [
             0.9,
             "#4d9221"
            ],
            [
             1,
             "#276419"
            ]
           ],
           "sequential": [
            [
             0,
             "#0d0887"
            ],
            [
             0.1111111111111111,
             "#46039f"
            ],
            [
             0.2222222222222222,
             "#7201a8"
            ],
            [
             0.3333333333333333,
             "#9c179e"
            ],
            [
             0.4444444444444444,
             "#bd3786"
            ],
            [
             0.5555555555555556,
             "#d8576b"
            ],
            [
             0.6666666666666666,
             "#ed7953"
            ],
            [
             0.7777777777777778,
             "#fb9f3a"
            ],
            [
             0.8888888888888888,
             "#fdca26"
            ],
            [
             1,
             "#f0f921"
            ]
           ],
           "sequentialminus": [
            [
             0,
             "#0d0887"
            ],
            [
             0.1111111111111111,
             "#46039f"
            ],
            [
             0.2222222222222222,
             "#7201a8"
            ],
            [
             0.3333333333333333,
             "#9c179e"
            ],
            [
             0.4444444444444444,
             "#bd3786"
            ],
            [
             0.5555555555555556,
             "#d8576b"
            ],
            [
             0.6666666666666666,
             "#ed7953"
            ],
            [
             0.7777777777777778,
             "#fb9f3a"
            ],
            [
             0.8888888888888888,
             "#fdca26"
            ],
            [
             1,
             "#f0f921"
            ]
           ]
          },
          "colorway": [
           "#636efa",
           "#EF553B",
           "#00cc96",
           "#ab63fa",
           "#FFA15A",
           "#19d3f3",
           "#FF6692",
           "#B6E880",
           "#FF97FF",
           "#FECB52"
          ],
          "font": {
           "color": "#2a3f5f"
          },
          "geo": {
           "bgcolor": "white",
           "lakecolor": "white",
           "landcolor": "#E5ECF6",
           "showlakes": true,
           "showland": true,
           "subunitcolor": "white"
          },
          "hoverlabel": {
           "align": "left"
          },
          "hovermode": "closest",
          "mapbox": {
           "style": "light"
          },
          "paper_bgcolor": "white",
          "plot_bgcolor": "#E5ECF6",
          "polar": {
           "angularaxis": {
            "gridcolor": "white",
            "linecolor": "white",
            "ticks": ""
           },
           "bgcolor": "#E5ECF6",
           "radialaxis": {
            "gridcolor": "white",
            "linecolor": "white",
            "ticks": ""
           }
          },
          "scene": {
           "xaxis": {
            "backgroundcolor": "#E5ECF6",
            "gridcolor": "white",
            "gridwidth": 2,
            "linecolor": "white",
            "showbackground": true,
            "ticks": "",
            "zerolinecolor": "white"
           },
           "yaxis": {
            "backgroundcolor": "#E5ECF6",
            "gridcolor": "white",
            "gridwidth": 2,
            "linecolor": "white",
            "showbackground": true,
            "ticks": "",
            "zerolinecolor": "white"
           },
           "zaxis": {
            "backgroundcolor": "#E5ECF6",
            "gridcolor": "white",
            "gridwidth": 2,
            "linecolor": "white",
            "showbackground": true,
            "ticks": "",
            "zerolinecolor": "white"
           }
          },
          "shapedefaults": {
           "line": {
            "color": "#2a3f5f"
           }
          },
          "ternary": {
           "aaxis": {
            "gridcolor": "white",
            "linecolor": "white",
            "ticks": ""
           },
           "baxis": {
            "gridcolor": "white",
            "linecolor": "white",
            "ticks": ""
           },
           "bgcolor": "#E5ECF6",
           "caxis": {
            "gridcolor": "white",
            "linecolor": "white",
            "ticks": ""
           }
          },
          "title": {
           "x": 0.05
          },
          "xaxis": {
           "automargin": true,
           "gridcolor": "white",
           "linecolor": "white",
           "ticks": "",
           "title": {
            "standoff": 15
           },
           "zerolinecolor": "white",
           "zerolinewidth": 2
          },
          "yaxis": {
           "automargin": true,
           "gridcolor": "white",
           "linecolor": "white",
           "ticks": "",
           "title": {
            "standoff": 15
           },
           "zerolinecolor": "white",
           "zerolinewidth": 2
          }
         }
        },
        "title": {
         "text": "local_language by Group"
        },
        "xaxis": {
         "anchor": "y",
         "domain": [
          0,
          1
         ],
         "title": {
          "text": "local_language"
         }
        },
        "yaxis": {
         "anchor": "x",
         "domain": [
          0,
          1
         ],
         "title": {
          "text": "Count"
         }
        }
       }
      }
     },
     "metadata": {},
     "output_type": "display_data"
    }
   ],
   "source": [
    "data = {'local_language': ['False','True'],\n",
    "        'Not yet': [8, 10],\n",
    "        'Yes': [7,14]}\n",
    "df = pd.DataFrame(data)\n",
    "\n",
    "# Melt the DataFrame to transform it to a long format\n",
    "df_melted = pd.melt(df, id_vars=['local_language'], var_name='Group', value_name='Count')\n",
    "\n",
    "# Create a pie chart using Plotly Express\n",
    "fig = px.bar(df_melted, x='local_language', y='Count', color='Group', barmode='group',\n",
    "             title='local_language by Group')\n",
    "\n",
    "# Show the plot\n",
    "fig.show()"
   ]
  },
  {
   "cell_type": "code",
   "execution_count": 5,
   "metadata": {},
   "outputs": [
    {
     "data": {
      "text/plain": [
       "Index(['Column1', 'Age', 'sex', 'Nationality', 'base', 'Mother_tongue',\n",
       "       'Other_languages', 'education', 'Part_full', 'working_student',\n",
       "       'Academic_major', 'Bootcamp_subject', 'Institute', 'Graduation_time',\n",
       "       'local_language', 'Employee', 'Time_employee', 'Apply_employee',\n",
       "       'Work_exprience_employee', 'Time_hunter', 'Apply_hunter',\n",
       "       'Work_exprience_hunter', 'Subjective_technical', 'Subjective_soft',\n",
       "       'Subjective_language', 'Subjective_academia', 'Subjective_bootcamp',\n",
       "       'latitude', 'longitude'],\n",
       "      dtype='object')"
      ]
     },
     "execution_count": 5,
     "metadata": {},
     "output_type": "execute_result"
    }
   ],
   "source": [
    "raw_preprocessed.columns"
   ]
  },
  {
   "cell_type": "code",
   "execution_count": 15,
   "metadata": {},
   "outputs": [
    {
     "data": {
      "application/vnd.plotly.v1+json": {
       "config": {
        "plotlyServerURL": "https://plot.ly"
       },
       "data": [
        {
         "customdata": [
          [
           "Not yet"
          ],
          [
           "Not yet"
          ],
          [
           "Not yet"
          ],
          [
           "Not yet"
          ],
          [
           "Not yet"
          ],
          [
           "Not yet"
          ],
          [
           "Yes"
          ],
          [
           "Yes"
          ],
          [
           "Yes"
          ],
          [
           "Not yet"
          ],
          [
           "Yes"
          ],
          [
           "Yes"
          ],
          [
           "Not yet"
          ],
          [
           "Not yet"
          ],
          [
           "Not yet"
          ],
          [
           "Yes"
          ],
          [
           "Not yet"
          ],
          [
           "Not yet"
          ],
          [
           "Not yet"
          ],
          [
           "Not yet"
          ],
          [
           "Not yet"
          ],
          [
           "Not yet"
          ],
          [
           "Not yet"
          ],
          [
           "Yes"
          ],
          [
           "Not yet"
          ],
          [
           "Yes"
          ],
          [
           "Yes"
          ],
          [
           "Yes"
          ],
          [
           "Yes"
          ],
          [
           "Yes"
          ],
          [
           "Yes"
          ],
          [
           "Yes"
          ],
          [
           "Yes"
          ],
          [
           "Yes"
          ],
          [
           "Yes"
          ],
          [
           "Yes"
          ],
          [
           "Yes"
          ],
          [
           "Yes"
          ],
          [
           "Yes"
          ]
         ],
         "domain": {
          "x": [
           0,
           1
          ],
          "y": [
           0,
           1
          ]
         },
         "hovertemplate": "Employee=%{customdata[0]}<extra></extra>",
         "labels": [
          "Not yet",
          "Not yet",
          "Not yet",
          "Not yet",
          "Not yet",
          "Not yet",
          "Yes",
          "Yes",
          "Yes",
          "Not yet",
          "Yes",
          "Yes",
          "Not yet",
          "Not yet",
          "Not yet",
          "Yes",
          "Not yet",
          "Not yet",
          "Not yet",
          "Not yet",
          "Not yet",
          "Not yet",
          "Not yet",
          "Yes",
          "Not yet",
          "Yes",
          "Yes",
          "Yes",
          "Yes",
          "Yes",
          "Yes",
          "Yes",
          "Yes",
          "Yes",
          "Yes",
          "Yes",
          "Yes",
          "Yes",
          "Yes"
         ],
         "legendgroup": "",
         "marker": {
          "colors": [
           "#636efa",
           "#636efa",
           "#636efa",
           "#636efa",
           "#636efa",
           "#636efa",
           "#EF553B",
           "#EF553B",
           "#EF553B",
           "#636efa",
           "#EF553B",
           "#EF553B",
           "#636efa",
           "#636efa",
           "#636efa",
           "#EF553B",
           "#636efa",
           "#636efa",
           "#636efa",
           "#636efa",
           "#636efa",
           "#636efa",
           "#636efa",
           "#EF553B",
           "#636efa",
           "#EF553B",
           "#EF553B",
           "#EF553B",
           "#EF553B",
           "#EF553B",
           "#EF553B",
           "#EF553B",
           "#EF553B",
           "#EF553B",
           "#EF553B",
           "#EF553B",
           "#EF553B",
           "#EF553B",
           "#EF553B"
          ]
         },
         "name": "",
         "showlegend": true,
         "type": "pie"
        }
       ],
       "layout": {
        "legend": {
         "tracegroupgap": 0
        },
        "template": {
         "data": {
          "bar": [
           {
            "error_x": {
             "color": "#2a3f5f"
            },
            "error_y": {
             "color": "#2a3f5f"
            },
            "marker": {
             "line": {
              "color": "#E5ECF6",
              "width": 0.5
             },
             "pattern": {
              "fillmode": "overlay",
              "size": 10,
              "solidity": 0.2
             }
            },
            "type": "bar"
           }
          ],
          "barpolar": [
           {
            "marker": {
             "line": {
              "color": "#E5ECF6",
              "width": 0.5
             },
             "pattern": {
              "fillmode": "overlay",
              "size": 10,
              "solidity": 0.2
             }
            },
            "type": "barpolar"
           }
          ],
          "carpet": [
           {
            "aaxis": {
             "endlinecolor": "#2a3f5f",
             "gridcolor": "white",
             "linecolor": "white",
             "minorgridcolor": "white",
             "startlinecolor": "#2a3f5f"
            },
            "baxis": {
             "endlinecolor": "#2a3f5f",
             "gridcolor": "white",
             "linecolor": "white",
             "minorgridcolor": "white",
             "startlinecolor": "#2a3f5f"
            },
            "type": "carpet"
           }
          ],
          "choropleth": [
           {
            "colorbar": {
             "outlinewidth": 0,
             "ticks": ""
            },
            "type": "choropleth"
           }
          ],
          "contour": [
           {
            "colorbar": {
             "outlinewidth": 0,
             "ticks": ""
            },
            "colorscale": [
             [
              0,
              "#0d0887"
             ],
             [
              0.1111111111111111,
              "#46039f"
             ],
             [
              0.2222222222222222,
              "#7201a8"
             ],
             [
              0.3333333333333333,
              "#9c179e"
             ],
             [
              0.4444444444444444,
              "#bd3786"
             ],
             [
              0.5555555555555556,
              "#d8576b"
             ],
             [
              0.6666666666666666,
              "#ed7953"
             ],
             [
              0.7777777777777778,
              "#fb9f3a"
             ],
             [
              0.8888888888888888,
              "#fdca26"
             ],
             [
              1,
              "#f0f921"
             ]
            ],
            "type": "contour"
           }
          ],
          "contourcarpet": [
           {
            "colorbar": {
             "outlinewidth": 0,
             "ticks": ""
            },
            "type": "contourcarpet"
           }
          ],
          "heatmap": [
           {
            "colorbar": {
             "outlinewidth": 0,
             "ticks": ""
            },
            "colorscale": [
             [
              0,
              "#0d0887"
             ],
             [
              0.1111111111111111,
              "#46039f"
             ],
             [
              0.2222222222222222,
              "#7201a8"
             ],
             [
              0.3333333333333333,
              "#9c179e"
             ],
             [
              0.4444444444444444,
              "#bd3786"
             ],
             [
              0.5555555555555556,
              "#d8576b"
             ],
             [
              0.6666666666666666,
              "#ed7953"
             ],
             [
              0.7777777777777778,
              "#fb9f3a"
             ],
             [
              0.8888888888888888,
              "#fdca26"
             ],
             [
              1,
              "#f0f921"
             ]
            ],
            "type": "heatmap"
           }
          ],
          "heatmapgl": [
           {
            "colorbar": {
             "outlinewidth": 0,
             "ticks": ""
            },
            "colorscale": [
             [
              0,
              "#0d0887"
             ],
             [
              0.1111111111111111,
              "#46039f"
             ],
             [
              0.2222222222222222,
              "#7201a8"
             ],
             [
              0.3333333333333333,
              "#9c179e"
             ],
             [
              0.4444444444444444,
              "#bd3786"
             ],
             [
              0.5555555555555556,
              "#d8576b"
             ],
             [
              0.6666666666666666,
              "#ed7953"
             ],
             [
              0.7777777777777778,
              "#fb9f3a"
             ],
             [
              0.8888888888888888,
              "#fdca26"
             ],
             [
              1,
              "#f0f921"
             ]
            ],
            "type": "heatmapgl"
           }
          ],
          "histogram": [
           {
            "marker": {
             "pattern": {
              "fillmode": "overlay",
              "size": 10,
              "solidity": 0.2
             }
            },
            "type": "histogram"
           }
          ],
          "histogram2d": [
           {
            "colorbar": {
             "outlinewidth": 0,
             "ticks": ""
            },
            "colorscale": [
             [
              0,
              "#0d0887"
             ],
             [
              0.1111111111111111,
              "#46039f"
             ],
             [
              0.2222222222222222,
              "#7201a8"
             ],
             [
              0.3333333333333333,
              "#9c179e"
             ],
             [
              0.4444444444444444,
              "#bd3786"
             ],
             [
              0.5555555555555556,
              "#d8576b"
             ],
             [
              0.6666666666666666,
              "#ed7953"
             ],
             [
              0.7777777777777778,
              "#fb9f3a"
             ],
             [
              0.8888888888888888,
              "#fdca26"
             ],
             [
              1,
              "#f0f921"
             ]
            ],
            "type": "histogram2d"
           }
          ],
          "histogram2dcontour": [
           {
            "colorbar": {
             "outlinewidth": 0,
             "ticks": ""
            },
            "colorscale": [
             [
              0,
              "#0d0887"
             ],
             [
              0.1111111111111111,
              "#46039f"
             ],
             [
              0.2222222222222222,
              "#7201a8"
             ],
             [
              0.3333333333333333,
              "#9c179e"
             ],
             [
              0.4444444444444444,
              "#bd3786"
             ],
             [
              0.5555555555555556,
              "#d8576b"
             ],
             [
              0.6666666666666666,
              "#ed7953"
             ],
             [
              0.7777777777777778,
              "#fb9f3a"
             ],
             [
              0.8888888888888888,
              "#fdca26"
             ],
             [
              1,
              "#f0f921"
             ]
            ],
            "type": "histogram2dcontour"
           }
          ],
          "mesh3d": [
           {
            "colorbar": {
             "outlinewidth": 0,
             "ticks": ""
            },
            "type": "mesh3d"
           }
          ],
          "parcoords": [
           {
            "line": {
             "colorbar": {
              "outlinewidth": 0,
              "ticks": ""
             }
            },
            "type": "parcoords"
           }
          ],
          "pie": [
           {
            "automargin": true,
            "type": "pie"
           }
          ],
          "scatter": [
           {
            "fillpattern": {
             "fillmode": "overlay",
             "size": 10,
             "solidity": 0.2
            },
            "type": "scatter"
           }
          ],
          "scatter3d": [
           {
            "line": {
             "colorbar": {
              "outlinewidth": 0,
              "ticks": ""
             }
            },
            "marker": {
             "colorbar": {
              "outlinewidth": 0,
              "ticks": ""
             }
            },
            "type": "scatter3d"
           }
          ],
          "scattercarpet": [
           {
            "marker": {
             "colorbar": {
              "outlinewidth": 0,
              "ticks": ""
             }
            },
            "type": "scattercarpet"
           }
          ],
          "scattergeo": [
           {
            "marker": {
             "colorbar": {
              "outlinewidth": 0,
              "ticks": ""
             }
            },
            "type": "scattergeo"
           }
          ],
          "scattergl": [
           {
            "marker": {
             "colorbar": {
              "outlinewidth": 0,
              "ticks": ""
             }
            },
            "type": "scattergl"
           }
          ],
          "scattermapbox": [
           {
            "marker": {
             "colorbar": {
              "outlinewidth": 0,
              "ticks": ""
             }
            },
            "type": "scattermapbox"
           }
          ],
          "scatterpolar": [
           {
            "marker": {
             "colorbar": {
              "outlinewidth": 0,
              "ticks": ""
             }
            },
            "type": "scatterpolar"
           }
          ],
          "scatterpolargl": [
           {
            "marker": {
             "colorbar": {
              "outlinewidth": 0,
              "ticks": ""
             }
            },
            "type": "scatterpolargl"
           }
          ],
          "scatterternary": [
           {
            "marker": {
             "colorbar": {
              "outlinewidth": 0,
              "ticks": ""
             }
            },
            "type": "scatterternary"
           }
          ],
          "surface": [
           {
            "colorbar": {
             "outlinewidth": 0,
             "ticks": ""
            },
            "colorscale": [
             [
              0,
              "#0d0887"
             ],
             [
              0.1111111111111111,
              "#46039f"
             ],
             [
              0.2222222222222222,
              "#7201a8"
             ],
             [
              0.3333333333333333,
              "#9c179e"
             ],
             [
              0.4444444444444444,
              "#bd3786"
             ],
             [
              0.5555555555555556,
              "#d8576b"
             ],
             [
              0.6666666666666666,
              "#ed7953"
             ],
             [
              0.7777777777777778,
              "#fb9f3a"
             ],
             [
              0.8888888888888888,
              "#fdca26"
             ],
             [
              1,
              "#f0f921"
             ]
            ],
            "type": "surface"
           }
          ],
          "table": [
           {
            "cells": {
             "fill": {
              "color": "#EBF0F8"
             },
             "line": {
              "color": "white"
             }
            },
            "header": {
             "fill": {
              "color": "#C8D4E3"
             },
             "line": {
              "color": "white"
             }
            },
            "type": "table"
           }
          ]
         },
         "layout": {
          "annotationdefaults": {
           "arrowcolor": "#2a3f5f",
           "arrowhead": 0,
           "arrowwidth": 1
          },
          "autotypenumbers": "strict",
          "coloraxis": {
           "colorbar": {
            "outlinewidth": 0,
            "ticks": ""
           }
          },
          "colorscale": {
           "diverging": [
            [
             0,
             "#8e0152"
            ],
            [
             0.1,
             "#c51b7d"
            ],
            [
             0.2,
             "#de77ae"
            ],
            [
             0.3,
             "#f1b6da"
            ],
            [
             0.4,
             "#fde0ef"
            ],
            [
             0.5,
             "#f7f7f7"
            ],
            [
             0.6,
             "#e6f5d0"
            ],
            [
             0.7,
             "#b8e186"
            ],
            [
             0.8,
             "#7fbc41"
            ],
            [
             0.9,
             "#4d9221"
            ],
            [
             1,
             "#276419"
            ]
           ],
           "sequential": [
            [
             0,
             "#0d0887"
            ],
            [
             0.1111111111111111,
             "#46039f"
            ],
            [
             0.2222222222222222,
             "#7201a8"
            ],
            [
             0.3333333333333333,
             "#9c179e"
            ],
            [
             0.4444444444444444,
             "#bd3786"
            ],
            [
             0.5555555555555556,
             "#d8576b"
            ],
            [
             0.6666666666666666,
             "#ed7953"
            ],
            [
             0.7777777777777778,
             "#fb9f3a"
            ],
            [
             0.8888888888888888,
             "#fdca26"
            ],
            [
             1,
             "#f0f921"
            ]
           ],
           "sequentialminus": [
            [
             0,
             "#0d0887"
            ],
            [
             0.1111111111111111,
             "#46039f"
            ],
            [
             0.2222222222222222,
             "#7201a8"
            ],
            [
             0.3333333333333333,
             "#9c179e"
            ],
            [
             0.4444444444444444,
             "#bd3786"
            ],
            [
             0.5555555555555556,
             "#d8576b"
            ],
            [
             0.6666666666666666,
             "#ed7953"
            ],
            [
             0.7777777777777778,
             "#fb9f3a"
            ],
            [
             0.8888888888888888,
             "#fdca26"
            ],
            [
             1,
             "#f0f921"
            ]
           ]
          },
          "colorway": [
           "#636efa",
           "#EF553B",
           "#00cc96",
           "#ab63fa",
           "#FFA15A",
           "#19d3f3",
           "#FF6692",
           "#B6E880",
           "#FF97FF",
           "#FECB52"
          ],
          "font": {
           "color": "#2a3f5f"
          },
          "geo": {
           "bgcolor": "white",
           "lakecolor": "white",
           "landcolor": "#E5ECF6",
           "showlakes": true,
           "showland": true,
           "subunitcolor": "white"
          },
          "hoverlabel": {
           "align": "left"
          },
          "hovermode": "closest",
          "mapbox": {
           "style": "light"
          },
          "paper_bgcolor": "white",
          "plot_bgcolor": "#E5ECF6",
          "polar": {
           "angularaxis": {
            "gridcolor": "white",
            "linecolor": "white",
            "ticks": ""
           },
           "bgcolor": "#E5ECF6",
           "radialaxis": {
            "gridcolor": "white",
            "linecolor": "white",
            "ticks": ""
           }
          },
          "scene": {
           "xaxis": {
            "backgroundcolor": "#E5ECF6",
            "gridcolor": "white",
            "gridwidth": 2,
            "linecolor": "white",
            "showbackground": true,
            "ticks": "",
            "zerolinecolor": "white"
           },
           "yaxis": {
            "backgroundcolor": "#E5ECF6",
            "gridcolor": "white",
            "gridwidth": 2,
            "linecolor": "white",
            "showbackground": true,
            "ticks": "",
            "zerolinecolor": "white"
           },
           "zaxis": {
            "backgroundcolor": "#E5ECF6",
            "gridcolor": "white",
            "gridwidth": 2,
            "linecolor": "white",
            "showbackground": true,
            "ticks": "",
            "zerolinecolor": "white"
           }
          },
          "shapedefaults": {
           "line": {
            "color": "#2a3f5f"
           }
          },
          "ternary": {
           "aaxis": {
            "gridcolor": "white",
            "linecolor": "white",
            "ticks": ""
           },
           "baxis": {
            "gridcolor": "white",
            "linecolor": "white",
            "ticks": ""
           },
           "bgcolor": "#E5ECF6",
           "caxis": {
            "gridcolor": "white",
            "linecolor": "white",
            "ticks": ""
           }
          },
          "title": {
           "x": 0.05
          },
          "xaxis": {
           "automargin": true,
           "gridcolor": "white",
           "linecolor": "white",
           "ticks": "",
           "title": {
            "standoff": 15
           },
           "zerolinecolor": "white",
           "zerolinewidth": 2
          },
          "yaxis": {
           "automargin": true,
           "gridcolor": "white",
           "linecolor": "white",
           "ticks": "",
           "title": {
            "standoff": 15
           },
           "zerolinecolor": "white",
           "zerolinewidth": 2
          }
         }
        },
        "title": {
         "text": "Employee"
        }
       }
      }
     },
     "metadata": {},
     "output_type": "display_data"
    }
   ],
   "source": [
    "fig = px.pie(raw_preprocessed,'Employee',color='Employee',title='Employee')\n",
    "fig.show()"
   ]
  },
  {
   "cell_type": "code",
   "execution_count": 7,
   "metadata": {},
   "outputs": [
    {
     "data": {
      "text/html": [
       "<div>\n",
       "<style scoped>\n",
       "    .dataframe tbody tr th:only-of-type {\n",
       "        vertical-align: middle;\n",
       "    }\n",
       "\n",
       "    .dataframe tbody tr th {\n",
       "        vertical-align: top;\n",
       "    }\n",
       "\n",
       "    .dataframe thead th {\n",
       "        text-align: right;\n",
       "    }\n",
       "</style>\n",
       "<table border=\"1\" class=\"dataframe\">\n",
       "  <thead>\n",
       "    <tr style=\"text-align: right;\">\n",
       "      <th></th>\n",
       "      <th>Subjective_technical</th>\n",
       "      <th>Subjective_soft</th>\n",
       "      <th>Subjective_language</th>\n",
       "      <th>Subjective_academia</th>\n",
       "      <th>Subjective_bootcamp</th>\n",
       "    </tr>\n",
       "  </thead>\n",
       "  <tbody>\n",
       "    <tr>\n",
       "      <th>0</th>\n",
       "      <td>4</td>\n",
       "      <td>4</td>\n",
       "      <td>2</td>\n",
       "      <td>3</td>\n",
       "      <td>2</td>\n",
       "    </tr>\n",
       "    <tr>\n",
       "      <th>1</th>\n",
       "      <td>5</td>\n",
       "      <td>4</td>\n",
       "      <td>4</td>\n",
       "      <td>3</td>\n",
       "      <td>2</td>\n",
       "    </tr>\n",
       "    <tr>\n",
       "      <th>2</th>\n",
       "      <td>2</td>\n",
       "      <td>3</td>\n",
       "      <td>2</td>\n",
       "      <td>1</td>\n",
       "      <td>1</td>\n",
       "    </tr>\n",
       "    <tr>\n",
       "      <th>3</th>\n",
       "      <td>4</td>\n",
       "      <td>3</td>\n",
       "      <td>2</td>\n",
       "      <td>1</td>\n",
       "      <td>4</td>\n",
       "    </tr>\n",
       "    <tr>\n",
       "      <th>4</th>\n",
       "      <td>5</td>\n",
       "      <td>4</td>\n",
       "      <td>4</td>\n",
       "      <td>3</td>\n",
       "      <td>3</td>\n",
       "    </tr>\n",
       "    <tr>\n",
       "      <th>5</th>\n",
       "      <td>4</td>\n",
       "      <td>2</td>\n",
       "      <td>3</td>\n",
       "      <td>3</td>\n",
       "      <td>2</td>\n",
       "    </tr>\n",
       "    <tr>\n",
       "      <th>6</th>\n",
       "      <td>3</td>\n",
       "      <td>5</td>\n",
       "      <td>3</td>\n",
       "      <td>3</td>\n",
       "      <td>4</td>\n",
       "    </tr>\n",
       "    <tr>\n",
       "      <th>7</th>\n",
       "      <td>4</td>\n",
       "      <td>4</td>\n",
       "      <td>2</td>\n",
       "      <td>1</td>\n",
       "      <td>3</td>\n",
       "    </tr>\n",
       "    <tr>\n",
       "      <th>8</th>\n",
       "      <td>5</td>\n",
       "      <td>3</td>\n",
       "      <td>2</td>\n",
       "      <td>4</td>\n",
       "      <td>1</td>\n",
       "    </tr>\n",
       "    <tr>\n",
       "      <th>9</th>\n",
       "      <td>4</td>\n",
       "      <td>4</td>\n",
       "      <td>2</td>\n",
       "      <td>2</td>\n",
       "      <td>2</td>\n",
       "    </tr>\n",
       "    <tr>\n",
       "      <th>10</th>\n",
       "      <td>4</td>\n",
       "      <td>5</td>\n",
       "      <td>5</td>\n",
       "      <td>2</td>\n",
       "      <td>5</td>\n",
       "    </tr>\n",
       "    <tr>\n",
       "      <th>11</th>\n",
       "      <td>5</td>\n",
       "      <td>3</td>\n",
       "      <td>4</td>\n",
       "      <td>5</td>\n",
       "      <td>2</td>\n",
       "    </tr>\n",
       "    <tr>\n",
       "      <th>12</th>\n",
       "      <td>4</td>\n",
       "      <td>4</td>\n",
       "      <td>3</td>\n",
       "      <td>2</td>\n",
       "      <td>2</td>\n",
       "    </tr>\n",
       "    <tr>\n",
       "      <th>13</th>\n",
       "      <td>4</td>\n",
       "      <td>4</td>\n",
       "      <td>2</td>\n",
       "      <td>4</td>\n",
       "      <td>4</td>\n",
       "    </tr>\n",
       "    <tr>\n",
       "      <th>14</th>\n",
       "      <td>5</td>\n",
       "      <td>4</td>\n",
       "      <td>3</td>\n",
       "      <td>4</td>\n",
       "      <td>3</td>\n",
       "    </tr>\n",
       "    <tr>\n",
       "      <th>15</th>\n",
       "      <td>3</td>\n",
       "      <td>4</td>\n",
       "      <td>5</td>\n",
       "      <td>5</td>\n",
       "      <td>4</td>\n",
       "    </tr>\n",
       "    <tr>\n",
       "      <th>16</th>\n",
       "      <td>5</td>\n",
       "      <td>4</td>\n",
       "      <td>1</td>\n",
       "      <td>3</td>\n",
       "      <td>2</td>\n",
       "    </tr>\n",
       "    <tr>\n",
       "      <th>17</th>\n",
       "      <td>1</td>\n",
       "      <td>1</td>\n",
       "      <td>1</td>\n",
       "      <td>2</td>\n",
       "      <td>1</td>\n",
       "    </tr>\n",
       "    <tr>\n",
       "      <th>18</th>\n",
       "      <td>5</td>\n",
       "      <td>4</td>\n",
       "      <td>3</td>\n",
       "      <td>2</td>\n",
       "      <td>2</td>\n",
       "    </tr>\n",
       "    <tr>\n",
       "      <th>19</th>\n",
       "      <td>5</td>\n",
       "      <td>5</td>\n",
       "      <td>1</td>\n",
       "      <td>1</td>\n",
       "      <td>2</td>\n",
       "    </tr>\n",
       "    <tr>\n",
       "      <th>20</th>\n",
       "      <td>4</td>\n",
       "      <td>5</td>\n",
       "      <td>5</td>\n",
       "      <td>4</td>\n",
       "      <td>3</td>\n",
       "    </tr>\n",
       "    <tr>\n",
       "      <th>21</th>\n",
       "      <td>4</td>\n",
       "      <td>4</td>\n",
       "      <td>4</td>\n",
       "      <td>4</td>\n",
       "      <td>1</td>\n",
       "    </tr>\n",
       "    <tr>\n",
       "      <th>22</th>\n",
       "      <td>4</td>\n",
       "      <td>2</td>\n",
       "      <td>3</td>\n",
       "      <td>1</td>\n",
       "      <td>1</td>\n",
       "    </tr>\n",
       "    <tr>\n",
       "      <th>23</th>\n",
       "      <td>4</td>\n",
       "      <td>4</td>\n",
       "      <td>5</td>\n",
       "      <td>3</td>\n",
       "      <td>3</td>\n",
       "    </tr>\n",
       "    <tr>\n",
       "      <th>24</th>\n",
       "      <td>5</td>\n",
       "      <td>5</td>\n",
       "      <td>4</td>\n",
       "      <td>4</td>\n",
       "      <td>4</td>\n",
       "    </tr>\n",
       "    <tr>\n",
       "      <th>25</th>\n",
       "      <td>4</td>\n",
       "      <td>4</td>\n",
       "      <td>3</td>\n",
       "      <td>4</td>\n",
       "      <td>2</td>\n",
       "    </tr>\n",
       "    <tr>\n",
       "      <th>26</th>\n",
       "      <td>4</td>\n",
       "      <td>4</td>\n",
       "      <td>3</td>\n",
       "      <td>4</td>\n",
       "      <td>2</td>\n",
       "    </tr>\n",
       "    <tr>\n",
       "      <th>27</th>\n",
       "      <td>4</td>\n",
       "      <td>4</td>\n",
       "      <td>3</td>\n",
       "      <td>4</td>\n",
       "      <td>2</td>\n",
       "    </tr>\n",
       "    <tr>\n",
       "      <th>28</th>\n",
       "      <td>4</td>\n",
       "      <td>3</td>\n",
       "      <td>2</td>\n",
       "      <td>3</td>\n",
       "      <td>3</td>\n",
       "    </tr>\n",
       "    <tr>\n",
       "      <th>29</th>\n",
       "      <td>4</td>\n",
       "      <td>3</td>\n",
       "      <td>3</td>\n",
       "      <td>3</td>\n",
       "      <td>2</td>\n",
       "    </tr>\n",
       "    <tr>\n",
       "      <th>30</th>\n",
       "      <td>5</td>\n",
       "      <td>4</td>\n",
       "      <td>4</td>\n",
       "      <td>3</td>\n",
       "      <td>4</td>\n",
       "    </tr>\n",
       "    <tr>\n",
       "      <th>31</th>\n",
       "      <td>3</td>\n",
       "      <td>3</td>\n",
       "      <td>4</td>\n",
       "      <td>4</td>\n",
       "      <td>3</td>\n",
       "    </tr>\n",
       "    <tr>\n",
       "      <th>32</th>\n",
       "      <td>5</td>\n",
       "      <td>4</td>\n",
       "      <td>4</td>\n",
       "      <td>4</td>\n",
       "      <td>5</td>\n",
       "    </tr>\n",
       "    <tr>\n",
       "      <th>33</th>\n",
       "      <td>4</td>\n",
       "      <td>3</td>\n",
       "      <td>3</td>\n",
       "      <td>4</td>\n",
       "      <td>4</td>\n",
       "    </tr>\n",
       "    <tr>\n",
       "      <th>34</th>\n",
       "      <td>3</td>\n",
       "      <td>4</td>\n",
       "      <td>3</td>\n",
       "      <td>3</td>\n",
       "      <td>4</td>\n",
       "    </tr>\n",
       "    <tr>\n",
       "      <th>35</th>\n",
       "      <td>3</td>\n",
       "      <td>2</td>\n",
       "      <td>4</td>\n",
       "      <td>4</td>\n",
       "      <td>5</td>\n",
       "    </tr>\n",
       "    <tr>\n",
       "      <th>36</th>\n",
       "      <td>4</td>\n",
       "      <td>3</td>\n",
       "      <td>3</td>\n",
       "      <td>4</td>\n",
       "      <td>4</td>\n",
       "    </tr>\n",
       "    <tr>\n",
       "      <th>37</th>\n",
       "      <td>3</td>\n",
       "      <td>4</td>\n",
       "      <td>3</td>\n",
       "      <td>3</td>\n",
       "      <td>4</td>\n",
       "    </tr>\n",
       "    <tr>\n",
       "      <th>38</th>\n",
       "      <td>3</td>\n",
       "      <td>2</td>\n",
       "      <td>4</td>\n",
       "      <td>4</td>\n",
       "      <td>5</td>\n",
       "    </tr>\n",
       "  </tbody>\n",
       "</table>\n",
       "</div>"
      ],
      "text/plain": [
       "    Subjective_technical  Subjective_soft  Subjective_language  \\\n",
       "0                      4                4                    2   \n",
       "1                      5                4                    4   \n",
       "2                      2                3                    2   \n",
       "3                      4                3                    2   \n",
       "4                      5                4                    4   \n",
       "5                      4                2                    3   \n",
       "6                      3                5                    3   \n",
       "7                      4                4                    2   \n",
       "8                      5                3                    2   \n",
       "9                      4                4                    2   \n",
       "10                     4                5                    5   \n",
       "11                     5                3                    4   \n",
       "12                     4                4                    3   \n",
       "13                     4                4                    2   \n",
       "14                     5                4                    3   \n",
       "15                     3                4                    5   \n",
       "16                     5                4                    1   \n",
       "17                     1                1                    1   \n",
       "18                     5                4                    3   \n",
       "19                     5                5                    1   \n",
       "20                     4                5                    5   \n",
       "21                     4                4                    4   \n",
       "22                     4                2                    3   \n",
       "23                     4                4                    5   \n",
       "24                     5                5                    4   \n",
       "25                     4                4                    3   \n",
       "26                     4                4                    3   \n",
       "27                     4                4                    3   \n",
       "28                     4                3                    2   \n",
       "29                     4                3                    3   \n",
       "30                     5                4                    4   \n",
       "31                     3                3                    4   \n",
       "32                     5                4                    4   \n",
       "33                     4                3                    3   \n",
       "34                     3                4                    3   \n",
       "35                     3                2                    4   \n",
       "36                     4                3                    3   \n",
       "37                     3                4                    3   \n",
       "38                     3                2                    4   \n",
       "\n",
       "    Subjective_academia  Subjective_bootcamp  \n",
       "0                     3                    2  \n",
       "1                     3                    2  \n",
       "2                     1                    1  \n",
       "3                     1                    4  \n",
       "4                     3                    3  \n",
       "5                     3                    2  \n",
       "6                     3                    4  \n",
       "7                     1                    3  \n",
       "8                     4                    1  \n",
       "9                     2                    2  \n",
       "10                    2                    5  \n",
       "11                    5                    2  \n",
       "12                    2                    2  \n",
       "13                    4                    4  \n",
       "14                    4                    3  \n",
       "15                    5                    4  \n",
       "16                    3                    2  \n",
       "17                    2                    1  \n",
       "18                    2                    2  \n",
       "19                    1                    2  \n",
       "20                    4                    3  \n",
       "21                    4                    1  \n",
       "22                    1                    1  \n",
       "23                    3                    3  \n",
       "24                    4                    4  \n",
       "25                    4                    2  \n",
       "26                    4                    2  \n",
       "27                    4                    2  \n",
       "28                    3                    3  \n",
       "29                    3                    2  \n",
       "30                    3                    4  \n",
       "31                    4                    3  \n",
       "32                    4                    5  \n",
       "33                    4                    4  \n",
       "34                    3                    4  \n",
       "35                    4                    5  \n",
       "36                    4                    4  \n",
       "37                    3                    4  \n",
       "38                    4                    5  "
      ]
     },
     "execution_count": 7,
     "metadata": {},
     "output_type": "execute_result"
    }
   ],
   "source": [
    "raw_preprocessed[['Subjective_technical', 'Subjective_soft','Subjective_language', 'Subjective_academia', 'Subjective_bootcamp']]"
   ]
  },
  {
   "cell_type": "code",
   "execution_count": null,
   "metadata": {},
   "outputs": [],
   "source": []
  }
 ],
 "metadata": {
  "kernelspec": {
   "display_name": "Python 3",
   "language": "python",
   "name": "python3"
  },
  "language_info": {
   "codemirror_mode": {
    "name": "ipython",
    "version": 3
   },
   "file_extension": ".py",
   "mimetype": "text/x-python",
   "name": "python",
   "nbconvert_exporter": "python",
   "pygments_lexer": "ipython3",
   "version": "3.10.11"
  }
 },
 "nbformat": 4,
 "nbformat_minor": 2
}
